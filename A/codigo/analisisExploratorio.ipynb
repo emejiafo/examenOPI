{
 "cells": [
  {
   "cell_type": "markdown",
   "metadata": {},
   "source": [
    "######\n",
    "### Enrique Mejía Fontanot\n",
    "Análisis de la base de Carpetas de Investigación FGJ como respuesta al apartado A del examen.\n",
    "\n",
    "#### Estructura:\n",
    "\n",
    "1. Cargar bibliotecas necesarias\n",
    "2. Leer datos\n",
    "3. Respuestas a preguntas del examen\n",
    "\n",
    "    3.1 ¿Qué pruebas identificarías para asegurar la calidad de estos datos? No es necesario\n",
    "hacerlas, sólo describe la prueba y lo que te dicecada una.\n",
    "\n",
    "    3.2 Identifica los delitos que van al alza y a la baja en la CDMX (ten cuidado con los delitos\n",
    "con pocas ocurrencias).\n",
    "\n",
    "    3.3 ¿Cuál es la alcaldía que más delitos tiene y cuál es la que menos?¿Por qué crees que sea\n",
    "esto?\n",
    "\n",
    "    3.4 ¿Existe alguna tendencia estacional en la ocurrencia de delitos (mes, semana, día de la\n",
    "semana, quincenas) en la CDMX? ¿A qué crees que sedeba?\n",
    "\n",
    "    3.5 ¿Cuáles son los delitos que más caracterizan a cada alcaldía? Es decir, delitos que\n",
    "suceden con mayor frecuencia en una alcaldía y con menor frecuencia en las demás.\n",
    "\n",
    "    3.6 Diseña un indicador que mida el nivel de “inseguridad”. Genéralo al nivel de\n",
    "desagregación que te parezca más adecuado (ej. manzana, calle, AGEB, etc.). Analiza los\n",
    "resultados ¿Encontraste algún patrón interesante? ¿Qué decisiones se podrían tomar\n",
    "con el indicador?\n",
    "\n",
    "#### Notas\n",
    "\n",
    "Es necesario cargar el archivo .csv de carpetas de investiación si es la primera vez que se ejecuta el script ya que este archivo no se sube al repositorio de git. Se pretende que el código sea reproducible, claro y entendible. Los comentarios en el código sirven el propósito de describir el código que les sigue. El texto en formato markdown pretende ofrecer la respuesta de todas las preguntas a partir de la ejecución del código y del análisis de los resultados de este manera secuencial. Cada pregunta va añadiendo información que es utilizada por los análisis posteriores.\n",
    "\n",
    "#####"
   ]
  },
  {
   "cell_type": "markdown",
   "metadata": {},
   "source": [
    "1. Cargar bibliotecas necesarias"
   ]
  },
  {
   "cell_type": "code",
   "execution_count": 119,
   "metadata": {},
   "outputs": [],
   "source": [
    "## para manipular datos  \n",
    "import pandas as pd  \n",
    "## para graficar\n",
    "import seaborn as sns \n",
    "## para graficar\n",
    "import matplotlib.pyplot as plt "
   ]
  },
  {
   "cell_type": "markdown",
   "metadata": {},
   "source": [
    "2. Leer datos"
   ]
  },
  {
   "cell_type": "code",
   "execution_count": 126,
   "metadata": {},
   "outputs": [],
   "source": [
    "#### leer datos desde archivo csv descargado del portal de datos abiertos de la ADIP.\n",
    "df = pd.read_csv('/home/patatas/Documents/examenOPI/A/input/carpetas_completa_junio_2021.csv',low_memory=False, encoding='utf-8')"
   ]
  },
  {
   "cell_type": "markdown",
   "metadata": {},
   "source": [
    "Revisar dimensiones del dataframe leído."
   ]
  },
  {
   "cell_type": "code",
   "execution_count": 127,
   "metadata": {},
   "outputs": [
    {
     "data": {
      "text/plain": [
       "(1248924, 19)"
      ]
     },
     "execution_count": 127,
     "metadata": {},
     "output_type": "execute_result"
    }
   ],
   "source": [
    "## revisar dimensiones del df\n",
    "df.shape"
   ]
  },
  {
   "cell_type": "code",
   "execution_count": 128,
   "metadata": {},
   "outputs": [
    {
     "data": {
      "text/plain": [
       "ao_hechos               float64\n",
       "mes_hechos               object\n",
       "fecha_hechos             object\n",
       "ao_inicio                 int64\n",
       "mes_inicio               object\n",
       "fecha_inicio             object\n",
       "delito                   object\n",
       "fiscalia                 object\n",
       "agencia                  object\n",
       "unidad_investigacion     object\n",
       "categoria_delito         object\n",
       "calle_hechos             object\n",
       "calle_hechos2            object\n",
       "colonia_hechos           object\n",
       "alcaldia_hechos          object\n",
       "competencia              object\n",
       "longitud                float64\n",
       "latitud                 float64\n",
       "tempo                   float64\n",
       "dtype: object"
      ]
     },
     "execution_count": 128,
     "metadata": {},
     "output_type": "execute_result"
    }
   ],
   "source": [
    "## revisar tipos de variables\n",
    "df.dtypes"
   ]
  },
  {
   "cell_type": "code",
   "execution_count": 129,
   "metadata": {},
   "outputs": [
    {
     "data": {
      "text/html": [
       "<div>\n",
       "<style scoped>\n",
       "    .dataframe tbody tr th:only-of-type {\n",
       "        vertical-align: middle;\n",
       "    }\n",
       "\n",
       "    .dataframe tbody tr th {\n",
       "        vertical-align: top;\n",
       "    }\n",
       "\n",
       "    .dataframe thead th {\n",
       "        text-align: right;\n",
       "    }\n",
       "</style>\n",
       "<table border=\"1\" class=\"dataframe\">\n",
       "  <thead>\n",
       "    <tr style=\"text-align: right;\">\n",
       "      <th></th>\n",
       "      <th>ao_hechos</th>\n",
       "      <th>mes_hechos</th>\n",
       "      <th>fecha_hechos</th>\n",
       "      <th>ao_inicio</th>\n",
       "      <th>mes_inicio</th>\n",
       "      <th>fecha_inicio</th>\n",
       "      <th>delito</th>\n",
       "      <th>fiscalia</th>\n",
       "      <th>agencia</th>\n",
       "      <th>unidad_investigacion</th>\n",
       "      <th>categoria_delito</th>\n",
       "      <th>calle_hechos</th>\n",
       "      <th>calle_hechos2</th>\n",
       "      <th>colonia_hechos</th>\n",
       "      <th>alcaldia_hechos</th>\n",
       "      <th>competencia</th>\n",
       "      <th>longitud</th>\n",
       "      <th>latitud</th>\n",
       "      <th>tempo</th>\n",
       "    </tr>\n",
       "  </thead>\n",
       "  <tbody>\n",
       "    <tr>\n",
       "      <th>1248919</th>\n",
       "      <td>2021.0</td>\n",
       "      <td>Junio</td>\n",
       "      <td>2021-06-29 17:00:00</td>\n",
       "      <td>2021</td>\n",
       "      <td>Junio</td>\n",
       "      <td>2021-06-30 23:32:31</td>\n",
       "      <td>LESIONES CULPOSAS POR TRANSITO VEHICULAR EN CO...</td>\n",
       "      <td>FISCALÍA DE INVESTIGACIÓN TERRITORIAL EN MILPA...</td>\n",
       "      <td>MIL-2</td>\n",
       "      <td>UI-3SD</td>\n",
       "      <td>DELITO DE BAJO IMPACTO</td>\n",
       "      <td>OAXTEPEC</td>\n",
       "      <td>NaN</td>\n",
       "      <td>SAN MARCOS (SANTA ANA TLACOTENCO)</td>\n",
       "      <td>MILPA ALTA</td>\n",
       "      <td>FUERO COMUN</td>\n",
       "      <td>-98.992460</td>\n",
       "      <td>19.168371</td>\n",
       "      <td>NaN</td>\n",
       "    </tr>\n",
       "    <tr>\n",
       "      <th>1248920</th>\n",
       "      <td>2021.0</td>\n",
       "      <td>Junio</td>\n",
       "      <td>2021-06-04 19:00:00</td>\n",
       "      <td>2021</td>\n",
       "      <td>Junio</td>\n",
       "      <td>2021-06-30 23:36:45</td>\n",
       "      <td>ROBO DE ACCESORIOS DE AUTO</td>\n",
       "      <td>FISCALÍA DE INVESTIGACIÓN TERRITORIAL EN CUAUH...</td>\n",
       "      <td>CUH-7</td>\n",
       "      <td>UI-3SD</td>\n",
       "      <td>DELITO DE BAJO IMPACTO</td>\n",
       "      <td>AVENIDA MEXICO</td>\n",
       "      <td>TEOTIHUACAN</td>\n",
       "      <td>HIPÓDROMO</td>\n",
       "      <td>CUAUHTEMOC</td>\n",
       "      <td>FUERO COMUN</td>\n",
       "      <td>-99.168311</td>\n",
       "      <td>19.412001</td>\n",
       "      <td>NaN</td>\n",
       "    </tr>\n",
       "    <tr>\n",
       "      <th>1248921</th>\n",
       "      <td>2021.0</td>\n",
       "      <td>Junio</td>\n",
       "      <td>2021-06-30 19:40:00</td>\n",
       "      <td>2021</td>\n",
       "      <td>Junio</td>\n",
       "      <td>2021-06-30 23:37:12</td>\n",
       "      <td>AMENAZAS</td>\n",
       "      <td>FISCALÍA DE INVESTIGACIÓN TERRITORIAL EN IZTAC...</td>\n",
       "      <td>IZC-2</td>\n",
       "      <td>UI-3SD</td>\n",
       "      <td>DELITO DE BAJO IMPACTO</td>\n",
       "      <td>CUATRO</td>\n",
       "      <td>NaN</td>\n",
       "      <td>AGRÍCOLA PANTITLAN</td>\n",
       "      <td>IZTACALCO</td>\n",
       "      <td>FUERO COMUN</td>\n",
       "      <td>-99.061716</td>\n",
       "      <td>19.419028</td>\n",
       "      <td>NaN</td>\n",
       "    </tr>\n",
       "    <tr>\n",
       "      <th>1248922</th>\n",
       "      <td>2021.0</td>\n",
       "      <td>Mayo</td>\n",
       "      <td>2021-05-16 21:08:00</td>\n",
       "      <td>2021</td>\n",
       "      <td>Junio</td>\n",
       "      <td>2021-06-30 23:45:57</td>\n",
       "      <td>DAÑO EN PROPIEDAD AJENA INTENCIONAL</td>\n",
       "      <td>FISCALÍA DE INVESTIGACIÓN TERRITORIAL EN CUAUH...</td>\n",
       "      <td>CUH-7</td>\n",
       "      <td>UI-3SD</td>\n",
       "      <td>DELITO DE BAJO IMPACTO</td>\n",
       "      <td>ALVARO OBREGON</td>\n",
       "      <td>NaN</td>\n",
       "      <td>ROMA NORTE</td>\n",
       "      <td>CUAUHTEMOC</td>\n",
       "      <td>FUERO COMUN</td>\n",
       "      <td>-99.158994</td>\n",
       "      <td>19.418615</td>\n",
       "      <td>NaN</td>\n",
       "    </tr>\n",
       "    <tr>\n",
       "      <th>1248923</th>\n",
       "      <td>2021.0</td>\n",
       "      <td>Junio</td>\n",
       "      <td>2021-06-29 17:00:00</td>\n",
       "      <td>2021</td>\n",
       "      <td>Junio</td>\n",
       "      <td>2021-06-30 23:52:34</td>\n",
       "      <td>LESIONES INTENCIONALES POR ARMA BLANCA</td>\n",
       "      <td>FISCALÍA DE INVESTIGACIÓN TERRITORIAL EN IZTAP...</td>\n",
       "      <td>IZP-8</td>\n",
       "      <td>UI-3CD</td>\n",
       "      <td>DELITO DE BAJO IMPACTO</td>\n",
       "      <td>REFORMA # 100</td>\n",
       "      <td>NaN</td>\n",
       "      <td>LOMAS DE SAN LORENZO</td>\n",
       "      <td>IZTAPALAPA</td>\n",
       "      <td>FUERO COMUN</td>\n",
       "      <td>-99.069557</td>\n",
       "      <td>19.321406</td>\n",
       "      <td>NaN</td>\n",
       "    </tr>\n",
       "  </tbody>\n",
       "</table>\n",
       "</div>"
      ],
      "text/plain": [
       "         ao_hechos mes_hechos         fecha_hechos  ao_inicio mes_inicio  \\\n",
       "1248919     2021.0      Junio  2021-06-29 17:00:00       2021      Junio   \n",
       "1248920     2021.0      Junio  2021-06-04 19:00:00       2021      Junio   \n",
       "1248921     2021.0      Junio  2021-06-30 19:40:00       2021      Junio   \n",
       "1248922     2021.0       Mayo  2021-05-16 21:08:00       2021      Junio   \n",
       "1248923     2021.0      Junio  2021-06-29 17:00:00       2021      Junio   \n",
       "\n",
       "                fecha_inicio  \\\n",
       "1248919  2021-06-30 23:32:31   \n",
       "1248920  2021-06-30 23:36:45   \n",
       "1248921  2021-06-30 23:37:12   \n",
       "1248922  2021-06-30 23:45:57   \n",
       "1248923  2021-06-30 23:52:34   \n",
       "\n",
       "                                                    delito  \\\n",
       "1248919  LESIONES CULPOSAS POR TRANSITO VEHICULAR EN CO...   \n",
       "1248920                         ROBO DE ACCESORIOS DE AUTO   \n",
       "1248921                                           AMENAZAS   \n",
       "1248922                DAÑO EN PROPIEDAD AJENA INTENCIONAL   \n",
       "1248923             LESIONES INTENCIONALES POR ARMA BLANCA   \n",
       "\n",
       "                                                  fiscalia agencia  \\\n",
       "1248919  FISCALÍA DE INVESTIGACIÓN TERRITORIAL EN MILPA...   MIL-2   \n",
       "1248920  FISCALÍA DE INVESTIGACIÓN TERRITORIAL EN CUAUH...   CUH-7   \n",
       "1248921  FISCALÍA DE INVESTIGACIÓN TERRITORIAL EN IZTAC...   IZC-2   \n",
       "1248922  FISCALÍA DE INVESTIGACIÓN TERRITORIAL EN CUAUH...   CUH-7   \n",
       "1248923  FISCALÍA DE INVESTIGACIÓN TERRITORIAL EN IZTAP...   IZP-8   \n",
       "\n",
       "        unidad_investigacion        categoria_delito    calle_hechos  \\\n",
       "1248919               UI-3SD  DELITO DE BAJO IMPACTO        OAXTEPEC   \n",
       "1248920               UI-3SD  DELITO DE BAJO IMPACTO  AVENIDA MEXICO   \n",
       "1248921               UI-3SD  DELITO DE BAJO IMPACTO          CUATRO   \n",
       "1248922               UI-3SD  DELITO DE BAJO IMPACTO  ALVARO OBREGON   \n",
       "1248923               UI-3CD  DELITO DE BAJO IMPACTO   REFORMA # 100   \n",
       "\n",
       "        calle_hechos2                     colonia_hechos alcaldia_hechos  \\\n",
       "1248919           NaN  SAN MARCOS (SANTA ANA TLACOTENCO)      MILPA ALTA   \n",
       "1248920   TEOTIHUACAN                          HIPÓDROMO      CUAUHTEMOC   \n",
       "1248921           NaN                 AGRÍCOLA PANTITLAN       IZTACALCO   \n",
       "1248922           NaN                         ROMA NORTE      CUAUHTEMOC   \n",
       "1248923           NaN               LOMAS DE SAN LORENZO      IZTAPALAPA   \n",
       "\n",
       "         competencia   longitud    latitud  tempo  \n",
       "1248919  FUERO COMUN -98.992460  19.168371    NaN  \n",
       "1248920  FUERO COMUN -99.168311  19.412001    NaN  \n",
       "1248921  FUERO COMUN -99.061716  19.419028    NaN  \n",
       "1248922  FUERO COMUN -99.158994  19.418615    NaN  \n",
       "1248923  FUERO COMUN -99.069557  19.321406    NaN  "
      ]
     },
     "execution_count": 129,
     "metadata": {},
     "output_type": "execute_result"
    }
   ],
   "source": [
    "## revisar df \n",
    "df.tail()"
   ]
  },
  {
   "cell_type": "markdown",
   "metadata": {},
   "source": [
    "3. Respuestas a preguntas"
   ]
  },
  {
   "cell_type": "markdown",
   "metadata": {},
   "source": [
    "3.1 ¿Qué pruebas identificarías para asegurar la calidad de estos datos? No es necesario\n",
    "hacerlas, sólo describe la prueba y lo que te dice cada una."
   ]
  },
  {
   "cell_type": "markdown",
   "metadata": {},
   "source": [
    "Es necesario verificar que la información cumple con los requisitos necesarios para poder extraer valor de ella. Para esto es necesario primero definir qué es lo que queremos entender a través de estos datos. En este ejercicio, las preguntas ya están dadas por lo nos basamos en ellas para definir las pruebas que aseguren la calidad de los datos. Revisamos los siguientes criterios de precisión y describimos las pruebas correspondientes:\n",
    "\n",
    "- precisión - Para establecer una respuesta a partir de los datos, es necesario que estén libres de errores. Por ejemplo, si hubiera errores en la codificación de los delitos, o en las latitudes y longitudes de los mismos, no podríamos realizar un análisis preciso de los mismos a partir de estas variables. Cualquier conclusión estaría sesgada por estos errores y no sería reproducible con otras aproximaciones al mismo fenómeno. Si fuera posible se debería de ir al nacimiento de los datos para asegurarnos que toda la información capturada termine en el portal de datos abiertos sin ningún error. Sin embargo no somos dueños de la información por lo que la mejor prueba que podemos hacer es un análisis histórico de la precisión de cada variable. De esta manera podemos detectar errores en el momento en que sean introducidos a la base durante alguna de sus actualizaciones mensuales.\n",
    "\n",
    "- integridad (_completeness_) - Se refiere a que los datos no deberían de tener valores nulos en ninguna variable, y deberían de tener todos los atributos necesarios para el análisis. Esto se puede probar haciendo un conteo de valores nulos, para calcular la proporción de valores nulos por variable. También se puede hacer un análisis de tendencia para detectar anomalías en cuanto a la cantidad de valore nulos generados por fecha, para detectar la introducción de una variable no disponible anteriormente.\n",
    "\n",
    "- consistencia - Los datos deben de mantener el formato esperado de cada variable dada su naturaleza y no debe haber cambios en formatos ni en los valores de los registros. La primera prueba que se debe hacer es una revisión de los formatos y valores de cada variable. Esto se puede hacer con los comandos de describe para variables numéricas y enteras y de value_counts para las categóricas y de texto. La segunda prueba es la de consistencia histórica. Con cada entrega mensual, se debe verificar si se están introduciendo cambios de formatos o de los valores en algún registro. Debido a la naturaleza cambiante de las carpetas de investigación, mismas que pueden ser actualizadas aún después de haber sido publicadas en el portal de datos abiertos, es necesario verificar de manera histórica la consistencia de la información.\n",
    "\n",
    "- validez -  Los datos deben cumplir los requisitos para el uso que se les quiere dar. Esto incluye que las variables de fecha en realidad capturen una fecha en un formato adecuado, que una variable de correo electrónico esté validada como realmente existente y otros ejemplos similares.  Es decir que si queremos analizar los delitos que suceden en la Ciudad de México (CDMX), debemos de asegurarnos que cada registro es una observación válida de este fenómeno y que cada variable está capturada de acuerdo a su naturaleza. Este punto trae a la luz un problema fundamental de esta base de datos: se trata solamente de los delitos que son denunciados directamente o investigados por la Fiscalía General de Justicia de la Ciudad de México (FGJ). Existe la llamada cifra negra que corresponde a la cantidad de delitos que no son denunciados o no son investigados por las autoridades. Se puede hacer una comparación con la Encuesta nacional de victimización y percepción sobre seguridad pública (ENVIPE) que mide a través de una muestra representativa de habitantes de la CDMX la cantidad de personas que han sido víctimas de delitos en el último año. En el mundo ideal, se deberían de denunicar la misma cantidad de delitos que son cometidos en la ciudad.\n",
    "\n",
    "- los datos deben ser oportunos - Este criterio se encarga de medir qué tan oportunamente están disponibles los datos desde que son creados hasta que son publicados. Para probarlo, debemos aprovechar que contamos con la fecha de inicio de la carpeta (fecha_inicio) y la fecha en que se reportaron los hechos (fecha_hechos). Para cada registro, la diferencia entre estas dos variables nos da una parte del tiempo que toma en estar disponible desde que sucede el hecho. A esta cantidad debemos sumar el tiempo que falta hasta la siguiente publicación mensual en el portal de datos abiertos. Los datos se publican alrededor del día 10 de cada mes, y contienen la actualizaión correspondiente al mes completo anterior. Por lo que debemos sumar los días faltantes del mes más 10 días para obtener un estimado de qué tan oportuno es cada registro.\n",
    "\n",
    "- unicidad - Se refiere a que no existan registros duplicados del mismo hecho en la base. Para probarlo podemos comparar la dimensión completa de la base contra la cantidad de registros únicos. Esto nos dirá si existe algún duplicado que tenga  los mismos valores en todas las variables. Sin embargo, pueden existir duplicados que tengan algún valor ligeramente diferente y estos escaparían a la detección de esta prueba. Se puede hacer una prueba más específica que compare a los registros por alguna medida de similitud. Sin embargo esto cosntituye un problema que se podría complejizar bastante ya que incluso se podría ajustar un modelo estadístico para estimar qué tanto es un duplicado cada registro."
   ]
  },
  {
   "cell_type": "markdown",
   "metadata": {},
   "source": [
    "3.2 Identifica los delitos que van al alza y a la baja en la CDMX (ten cuidado con los delitos\n",
    "con pocas ocurrencias)."
   ]
  },
  {
   "cell_type": "markdown",
   "metadata": {},
   "source": [
    "Lo primero que hacemos es separar la fecha y la hora de los hechos en dos variables separadas a las que les damos el nombre de \"variable\"\\_clean. Es relevante notar que mantendremos esta notación de aquí en adelantcon cualquier modificación similar. El motivo es conservar siempre una copia original de lnformación, en caso de requerir algún nuevo análisis."
   ]
  },
  {
   "cell_type": "code",
   "execution_count": 131,
   "metadata": {},
   "outputs": [],
   "source": [
    "## separar fecha y hora de hechos/inicio que vienen pegados por un espacio\n",
    "# fecha de hechos\n",
    "df['fecha_hechos_clean'] = df['fecha_hechos'].str.split(' ').str.get(0)\n",
    "df['hora_hechos_clean'] = df['fecha_hechos'].str.split(' ').str.get(1)\n",
    "\n",
    "# fecha de inicio\n",
    "df['fecha_inicio_clean'] = df['fecha_inicio'].str.split(' ').str.get(0)\n",
    "df['hora_inicio_clean'] = df['fecha_inicio'].str.split(' ').str.get(1)"
   ]
  },
  {
   "cell_type": "markdown",
   "metadata": {},
   "source": [
    "Ahora pasamos las variables de fecha al tipo datetime."
   ]
  },
  {
   "cell_type": "code",
   "execution_count": 132,
   "metadata": {},
   "outputs": [],
   "source": [
    "## pasar fecha_hechos_clean a tipo datetime\n",
    "df['fecha_hechos_clean'] = pd.to_datetime(df['fecha_hechos_clean'])"
   ]
  },
  {
   "cell_type": "markdown",
   "metadata": {},
   "source": [
    "Ya que tenemos las fechas en el formato adecuado, podemos hacer los primeros análisis de las tendencias de los delitos. \n",
    "\n",
    "Tenemos que comenzar por una variable que nos permite dar un criterio de validez a los datos. La competencia es una categoría dada a cada carpeta de investigación por la FGJ. Esta variable es muy importante ya que nos permite descartar correctamente los casos que no son contados como delitos por la FGJ. Sin embargo, fue añadida recientemente, y no se encuentra disponible para toda la base.\n",
    "\n",
    "Para explicar esta categorización de los hechos, hacemos el conteo por categoria de la variable."
   ]
  },
  {
   "cell_type": "code",
   "execution_count": 133,
   "metadata": {},
   "outputs": [
    {
     "data": {
      "text/plain": [
       "NaN                   1064079\n",
       "FUERO COMUN            179618\n",
       "HECHO NO DELICTIVO       3374\n",
       "INCOMPETENCIA            1853\n",
       "Name: competencia, dtype: int64"
      ]
     },
     "execution_count": 133,
     "metadata": {},
     "output_type": "execute_result"
    }
   ],
   "source": [
    "## conteo por tipo de competencia, incluyendo valores nulos\n",
    "df['competencia'].value_counts(dropna = False)"
   ]
  },
  {
   "cell_type": "markdown",
   "metadata": {},
   "source": [
    "Las tres categorias son: \"FUERO COMUN\" que describe los delitos que ocurridos y denunciados en la CDMX y que competene a la FGJ, \"HECHO NO DELICTIVO\" que describe los hechos sucedidos y denunciados en la CDMX pero que no constituyen un delito como puede ser una pérdida de vida accidental por ejemplo y por último \"INCOMPETENCIA\" que son hechos delictivos sucedidos fuera de la CDMX pero denunciados dentro de ella. Solo los delitos categorizados con \"FUERO COMUN\" deben ser tomados como válidos por el criterio de competencia. Este mismo criterio ha sido usado por la FGJ y la ADIP al hacer reportes públicos con los datos de carpetas de investigación, por lo que es necesario replicarlo para poder verificar nuestros resultados contra dichos reportes.\n",
    "\n",
    "Sin embargo, gran cantidad de los registros (85%) son nulos en la variable de competencia. Es decir que desconocemos su categoria oficial entre las tres que sí son válidas. Necesitamos encontrar una aproximación que podamos utilizar como sustituto para determinar qué carpetas de investigación constituyen hechos delictivos de la CDMX y cuáles no entre las que son nulas en competencia.\n",
    "\n",
    "Ya que la información se actualiza de manera mensual en el portal de datos abiertos, usamos la fecha de inicio de la carpeta para hacer un conteo mensual de los valores nulos en esta variable para encontrar el punto de corte."
   ]
  },
  {
   "cell_type": "code",
   "execution_count": null,
   "metadata": {},
   "outputs": [],
   "source": [
    "## contar nulos por mes de inicio\n",
    "conteo = df.groupby([''])"
   ]
  },
  {
   "cell_type": "code",
   "execution_count": 123,
   "metadata": {},
   "outputs": [
    {
     "data": {
      "text/html": [
       "<div>\n",
       "<style scoped>\n",
       "    .dataframe tbody tr th:only-of-type {\n",
       "        vertical-align: middle;\n",
       "    }\n",
       "\n",
       "    .dataframe tbody tr th {\n",
       "        vertical-align: top;\n",
       "    }\n",
       "\n",
       "    .dataframe thead th {\n",
       "        text-align: right;\n",
       "    }\n",
       "</style>\n",
       "<table border=\"1\" class=\"dataframe\">\n",
       "  <thead>\n",
       "    <tr style=\"text-align: right;\">\n",
       "      <th></th>\n",
       "      <th>fecha_hechos_clean</th>\n",
       "      <th>competencia</th>\n",
       "      <th>conteo</th>\n",
       "    </tr>\n",
       "  </thead>\n",
       "  <tbody>\n",
       "    <tr>\n",
       "      <th>0</th>\n",
       "      <td>1950-01-01</td>\n",
       "      <td>FUERO COMUN</td>\n",
       "      <td>1</td>\n",
       "    </tr>\n",
       "    <tr>\n",
       "      <th>1</th>\n",
       "      <td>1952-12-23</td>\n",
       "      <td>FUERO COMUN</td>\n",
       "      <td>1</td>\n",
       "    </tr>\n",
       "    <tr>\n",
       "      <th>2</th>\n",
       "      <td>1955-01-02</td>\n",
       "      <td>FUERO COMUN</td>\n",
       "      <td>1</td>\n",
       "    </tr>\n",
       "    <tr>\n",
       "      <th>3</th>\n",
       "      <td>1958-11-27</td>\n",
       "      <td>FUERO COMUN</td>\n",
       "      <td>1</td>\n",
       "    </tr>\n",
       "    <tr>\n",
       "      <th>4</th>\n",
       "      <td>1962-01-01</td>\n",
       "      <td>FUERO COMUN</td>\n",
       "      <td>1</td>\n",
       "    </tr>\n",
       "    <tr>\n",
       "      <th>...</th>\n",
       "      <td>...</td>\n",
       "      <td>...</td>\n",
       "      <td>...</td>\n",
       "    </tr>\n",
       "    <tr>\n",
       "      <th>3349</th>\n",
       "      <td>2021-06-29</td>\n",
       "      <td>HECHO NO DELICTIVO</td>\n",
       "      <td>8</td>\n",
       "    </tr>\n",
       "    <tr>\n",
       "      <th>3350</th>\n",
       "      <td>2021-06-29</td>\n",
       "      <td>INCOMPETENCIA</td>\n",
       "      <td>5</td>\n",
       "    </tr>\n",
       "    <tr>\n",
       "      <th>3351</th>\n",
       "      <td>2021-06-30</td>\n",
       "      <td>FUERO COMUN</td>\n",
       "      <td>215</td>\n",
       "    </tr>\n",
       "    <tr>\n",
       "      <th>3352</th>\n",
       "      <td>2021-06-30</td>\n",
       "      <td>HECHO NO DELICTIVO</td>\n",
       "      <td>3</td>\n",
       "    </tr>\n",
       "    <tr>\n",
       "      <th>3353</th>\n",
       "      <td>2021-06-30</td>\n",
       "      <td>INCOMPETENCIA</td>\n",
       "      <td>1</td>\n",
       "    </tr>\n",
       "  </tbody>\n",
       "</table>\n",
       "<p>3354 rows × 3 columns</p>\n",
       "</div>"
      ],
      "text/plain": [
       "     fecha_hechos_clean         competencia  conteo\n",
       "0            1950-01-01         FUERO COMUN       1\n",
       "1            1952-12-23         FUERO COMUN       1\n",
       "2            1955-01-02         FUERO COMUN       1\n",
       "3            1958-11-27         FUERO COMUN       1\n",
       "4            1962-01-01         FUERO COMUN       1\n",
       "...                 ...                 ...     ...\n",
       "3349         2021-06-29  HECHO NO DELICTIVO       8\n",
       "3350         2021-06-29       INCOMPETENCIA       5\n",
       "3351         2021-06-30         FUERO COMUN     215\n",
       "3352         2021-06-30  HECHO NO DELICTIVO       3\n",
       "3353         2021-06-30       INCOMPETENCIA       1\n",
       "\n",
       "[3354 rows x 3 columns]"
      ]
     },
     "execution_count": 123,
     "metadata": {},
     "output_type": "execute_result"
    }
   ],
   "source": [
    "## conteo por fecha de hechos y competencia, incluyendo valores nulos\n",
    "# crear una variable auxiliar llamada conteo y con el valor de 1\n",
    "df['conteo'] = 1\n",
    "# agrupar por fecha_hechos_clean y competencia y sumar sobre conteo\n",
    "conteo = df.groupby(['fecha_hechos_clean','competencia'],as_index=False)['conteo'].sum()\n",
    "# imprimir resultado\n",
    "conteo"
   ]
  },
  {
   "cell_type": "markdown",
   "metadata": {},
   "source": []
  },
  {
   "cell_type": "code",
   "execution_count": 116,
   "metadata": {},
   "outputs": [],
   "source": []
  },
  {
   "cell_type": "code",
   "execution_count": null,
   "metadata": {},
   "outputs": [],
   "source": []
  },
  {
   "cell_type": "code",
   "execution_count": null,
   "metadata": {},
   "outputs": [],
   "source": []
  },
  {
   "cell_type": "markdown",
   "metadata": {},
   "source": [
    "Una gráfica nos permite encontrar la solución de manera sencilla."
   ]
  },
  {
   "cell_type": "code",
   "execution_count": 125,
   "metadata": {},
   "outputs": [],
   "source": [
    "## gráfica de tendencia con promedio móvil\n",
    "# calcular promedio móvil de 7 días\n",
    "conteo[ 'promedio_movil_conteo' ] = conteo.conteo.rolling( 7).mean()"
   ]
  },
  {
   "cell_type": "code",
   "execution_count": null,
   "metadata": {},
   "outputs": [],
   "source": []
  },
  {
   "cell_type": "code",
   "execution_count": null,
   "metadata": {},
   "outputs": [],
   "source": []
  },
  {
   "cell_type": "markdown",
   "metadata": {},
   "source": [
    "3.3 ¿Cuál es la alcaldía que más delitos tiene y cuál es la que menos? ¿Por qué crees que sea\n",
    "esto?"
   ]
  },
  {
   "cell_type": "code",
   "execution_count": null,
   "metadata": {},
   "outputs": [],
   "source": []
  },
  {
   "cell_type": "code",
   "execution_count": null,
   "metadata": {},
   "outputs": [],
   "source": []
  },
  {
   "cell_type": "code",
   "execution_count": null,
   "metadata": {},
   "outputs": [],
   "source": []
  },
  {
   "cell_type": "code",
   "execution_count": null,
   "metadata": {},
   "outputs": [],
   "source": []
  },
  {
   "cell_type": "code",
   "execution_count": null,
   "metadata": {},
   "outputs": [],
   "source": []
  },
  {
   "cell_type": "markdown",
   "metadata": {},
   "source": [
    "3.4 ¿Existe alguna tendencia estacional en la ocurrencia de delitos (mes, semana, día de la\n",
    "semana, quincenas) en la CDMX? ¿A qué crees que se deba?"
   ]
  },
  {
   "cell_type": "code",
   "execution_count": null,
   "metadata": {},
   "outputs": [],
   "source": []
  },
  {
   "cell_type": "code",
   "execution_count": null,
   "metadata": {},
   "outputs": [],
   "source": []
  },
  {
   "cell_type": "code",
   "execution_count": null,
   "metadata": {},
   "outputs": [],
   "source": []
  },
  {
   "cell_type": "code",
   "execution_count": null,
   "metadata": {},
   "outputs": [],
   "source": []
  },
  {
   "cell_type": "markdown",
   "metadata": {},
   "source": [
    "3.5 ¿Cuáles son los delitos que más caracterizan a cada alcaldía? Es decir, delitos que\n",
    "suceden con mayor frecuencia en una alcaldía y conmenor frecuencia en las demás."
   ]
  },
  {
   "cell_type": "code",
   "execution_count": null,
   "metadata": {},
   "outputs": [],
   "source": []
  },
  {
   "cell_type": "code",
   "execution_count": null,
   "metadata": {},
   "outputs": [],
   "source": []
  },
  {
   "cell_type": "code",
   "execution_count": null,
   "metadata": {},
   "outputs": [],
   "source": []
  },
  {
   "cell_type": "markdown",
   "metadata": {},
   "source": [
    "3.6 Diseña un indicador que mida el nivel de “inseguridad”. Genéralo al nivel de\n",
    "desagregación que te parezca más adecuado (ej.manzana,calle,AGEB,etc.). Analiza los\n",
    "resultados ¿Encontraste algún patrón interesante? ¿Qué decisiones se podrían tomar\n",
    "con el indicador?"
   ]
  },
  {
   "cell_type": "code",
   "execution_count": null,
   "metadata": {},
   "outputs": [],
   "source": []
  },
  {
   "cell_type": "code",
   "execution_count": null,
   "metadata": {},
   "outputs": [],
   "source": []
  },
  {
   "cell_type": "code",
   "execution_count": null,
   "metadata": {},
   "outputs": [],
   "source": []
  },
  {
   "cell_type": "markdown",
   "metadata": {},
   "source": []
  },
  {
   "cell_type": "code",
   "execution_count": null,
   "metadata": {},
   "outputs": [],
   "source": []
  },
  {
   "cell_type": "code",
   "execution_count": null,
   "metadata": {},
   "outputs": [],
   "source": []
  },
  {
   "cell_type": "code",
   "execution_count": null,
   "metadata": {},
   "outputs": [],
   "source": []
  },
  {
   "cell_type": "code",
   "execution_count": null,
   "metadata": {},
   "outputs": [],
   "source": []
  },
  {
   "cell_type": "code",
   "execution_count": null,
   "metadata": {},
   "outputs": [],
   "source": []
  },
  {
   "cell_type": "code",
   "execution_count": null,
   "metadata": {},
   "outputs": [],
   "source": []
  },
  {
   "cell_type": "code",
   "execution_count": null,
   "metadata": {},
   "outputs": [],
   "source": []
  },
  {
   "cell_type": "code",
   "execution_count": null,
   "metadata": {},
   "outputs": [],
   "source": []
  },
  {
   "cell_type": "code",
   "execution_count": null,
   "metadata": {},
   "outputs": [],
   "source": []
  },
  {
   "cell_type": "code",
   "execution_count": null,
   "metadata": {},
   "outputs": [],
   "source": []
  },
  {
   "cell_type": "code",
   "execution_count": null,
   "metadata": {},
   "outputs": [],
   "source": []
  },
  {
   "cell_type": "code",
   "execution_count": null,
   "metadata": {},
   "outputs": [],
   "source": []
  },
  {
   "cell_type": "code",
   "execution_count": null,
   "metadata": {},
   "outputs": [],
   "source": []
  },
  {
   "cell_type": "code",
   "execution_count": null,
   "metadata": {},
   "outputs": [],
   "source": []
  },
  {
   "cell_type": "code",
   "execution_count": null,
   "metadata": {},
   "outputs": [],
   "source": []
  },
  {
   "cell_type": "code",
   "execution_count": null,
   "metadata": {},
   "outputs": [],
   "source": []
  },
  {
   "cell_type": "code",
   "execution_count": null,
   "metadata": {},
   "outputs": [],
   "source": []
  },
  {
   "cell_type": "code",
   "execution_count": null,
   "metadata": {},
   "outputs": [],
   "source": []
  },
  {
   "cell_type": "code",
   "execution_count": null,
   "metadata": {},
   "outputs": [],
   "source": []
  },
  {
   "cell_type": "code",
   "execution_count": null,
   "metadata": {},
   "outputs": [],
   "source": []
  },
  {
   "cell_type": "code",
   "execution_count": null,
   "metadata": {},
   "outputs": [],
   "source": []
  },
  {
   "cell_type": "code",
   "execution_count": null,
   "metadata": {},
   "outputs": [],
   "source": []
  },
  {
   "cell_type": "code",
   "execution_count": null,
   "metadata": {},
   "outputs": [],
   "source": []
  },
  {
   "cell_type": "code",
   "execution_count": null,
   "metadata": {},
   "outputs": [],
   "source": []
  },
  {
   "cell_type": "code",
   "execution_count": null,
   "metadata": {},
   "outputs": [],
   "source": []
  },
  {
   "cell_type": "code",
   "execution_count": null,
   "metadata": {},
   "outputs": [],
   "source": []
  },
  {
   "cell_type": "code",
   "execution_count": null,
   "metadata": {},
   "outputs": [],
   "source": []
  },
  {
   "cell_type": "code",
   "execution_count": null,
   "metadata": {},
   "outputs": [],
   "source": []
  }
 ],
 "metadata": {
  "kernelspec": {
   "display_name": "Python 3",
   "language": "python",
   "name": "python3"
  },
  "language_info": {
   "codemirror_mode": {
    "name": "ipython",
    "version": 3
   },
   "file_extension": ".py",
   "mimetype": "text/x-python",
   "name": "python",
   "nbconvert_exporter": "python",
   "pygments_lexer": "ipython3",
   "version": "3.8.5"
  }
 },
 "nbformat": 4,
 "nbformat_minor": 4
}
