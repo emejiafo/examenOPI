{
 "cells": [
  {
   "cell_type": "markdown",
   "metadata": {},
   "source": [
    "### Enrique Mejía Fontanot\n",
    "Análisis de la base de Carpetas de Investigación FGJ como respuesta al apartado A del examen.\n",
    "\n",
    "#### Estructura:\n",
    "\n",
    "1. Cargar bibliotecas necesarias\n",
    "2. Leer datos\n",
    "3. Respuestas a preguntas del examen\n",
    "\n",
    "    3.1 ¿Qué pruebas identificarías para asegurar la calidad de estos datos? No es necesario\n",
    "hacerlas, sólo describe la prueba y lo que te dicecada una.\n",
    "\n",
    "    3.2 Identifica los delitos que van al alza y a la baja en la CDMX (ten cuidado con los delitos\n",
    "con pocas ocurrencias).\n",
    "\n",
    "    3.3 ¿Cuál es la alcaldía que más delitos tiene y cuál es la que menos?¿Por qué crees que sea\n",
    "esto?\n",
    "\n",
    "    3.4 ¿Existe alguna tendencia estacional en la ocurrencia de delitos (mes, semana, día de la\n",
    "semana, quincenas) en la CDMX? ¿A qué crees que sedeba?\n",
    "\n",
    "    3.5 ¿Cuáles son los delitos que más caracterizan a cada alcaldía? Es decir, delitos que\n",
    "suceden con mayor frecuencia en una alcaldía y con menor frecuencia en las demás.\n",
    "\n",
    "    3.6 Diseña un indicador que mida el nivel de “inseguridad”. Genéralo al nivel de\n",
    "desagregación que te parezca más adecuado (ej. manzana, calle, AGEB, etc.). Analiza los\n",
    "resultados ¿Encontraste algún patrón interesante? ¿Qué decisiones se podrían tomar\n",
    "con el indicador?\n",
    "\n",
    "#### Notas\n",
    "\n",
    "Es necesario cargar el archivo .csv de carpetas de investiación si es la primera vez que se ejecuta el script ya que este archivo no se sube al repositorio de git. Se pretende que el código sea reproducible, claro y entendible. Los comentarios en el código sirven el propósito de describir el código que les sigue. El texto en formato markdown pretende ofrecer la respuesta de todas las preguntas a partir de la ejecución del código y del análisis de los resultados de este manera secuencial. Cada pregunta va añadiendo información que es utilizada por los análisis posteriores.\n"
   ]
  },
  {
   "cell_type": "markdown",
   "metadata": {},
   "source": [
    "1. Cargar bibliotecas necesarias"
   ]
  },
  {
   "cell_type": "code",
   "execution_count": 1,
   "metadata": {},
   "outputs": [],
   "source": [
    "## para manipular datos  \n",
    "import pandas as pd  \n",
    "## para manipular datos geograficos\n",
    "import geopandas as gd\n",
    "## para manupular datos georáficos\n",
    "from shapely.geometry import Point\n",
    "from shapely.ops import cascaded_union\n",
    "from shapely.ops import Polygon\n",
    "## para graficar\n",
    "import seaborn as sns \n",
    "## para graficar\n",
    "import matplotlib.pyplot as plt \n",
    "## para manejo de fechas\n",
    "from datetime import datetime, date"
   ]
  },
  {
   "cell_type": "markdown",
   "metadata": {},
   "source": [
    "2. Leer datos"
   ]
  },
  {
   "cell_type": "code",
   "execution_count": 2,
   "metadata": {},
   "outputs": [],
   "source": [
    "#### leer datos desde archivo csv descargado del portal de datos abiertos de la ADIP.\n",
    "df = pd.read_csv('../input/carpetas_completa_junio_2021.csv',low_memory=False, encoding='utf-8')"
   ]
  },
  {
   "cell_type": "markdown",
   "metadata": {},
   "source": [
    "Revisar dimensiones del dataframe leído."
   ]
  },
  {
   "cell_type": "code",
   "execution_count": 3,
   "metadata": {},
   "outputs": [
    {
     "data": {
      "text/plain": [
       "(1248924, 19)"
      ]
     },
     "execution_count": 3,
     "metadata": {},
     "output_type": "execute_result"
    }
   ],
   "source": [
    "## revisar dimensiones del df\n",
    "df.shape"
   ]
  },
  {
   "cell_type": "code",
   "execution_count": 4,
   "metadata": {},
   "outputs": [
    {
     "data": {
      "text/plain": [
       "ao_hechos               float64\n",
       "mes_hechos               object\n",
       "fecha_hechos             object\n",
       "ao_inicio                 int64\n",
       "mes_inicio               object\n",
       "fecha_inicio             object\n",
       "delito                   object\n",
       "fiscalia                 object\n",
       "agencia                  object\n",
       "unidad_investigacion     object\n",
       "categoria_delito         object\n",
       "calle_hechos             object\n",
       "calle_hechos2            object\n",
       "colonia_hechos           object\n",
       "alcaldia_hechos          object\n",
       "competencia              object\n",
       "longitud                float64\n",
       "latitud                 float64\n",
       "tempo                   float64\n",
       "dtype: object"
      ]
     },
     "execution_count": 4,
     "metadata": {},
     "output_type": "execute_result"
    }
   ],
   "source": [
    "## revisar tipos de variables\n",
    "df.dtypes"
   ]
  },
  {
   "cell_type": "code",
   "execution_count": 5,
   "metadata": {},
   "outputs": [
    {
     "data": {
      "text/html": [
       "<div>\n",
       "<style scoped>\n",
       "    .dataframe tbody tr th:only-of-type {\n",
       "        vertical-align: middle;\n",
       "    }\n",
       "\n",
       "    .dataframe tbody tr th {\n",
       "        vertical-align: top;\n",
       "    }\n",
       "\n",
       "    .dataframe thead th {\n",
       "        text-align: right;\n",
       "    }\n",
       "</style>\n",
       "<table border=\"1\" class=\"dataframe\">\n",
       "  <thead>\n",
       "    <tr style=\"text-align: right;\">\n",
       "      <th></th>\n",
       "      <th>ao_hechos</th>\n",
       "      <th>mes_hechos</th>\n",
       "      <th>fecha_hechos</th>\n",
       "      <th>ao_inicio</th>\n",
       "      <th>mes_inicio</th>\n",
       "      <th>fecha_inicio</th>\n",
       "      <th>delito</th>\n",
       "      <th>fiscalia</th>\n",
       "      <th>agencia</th>\n",
       "      <th>unidad_investigacion</th>\n",
       "      <th>categoria_delito</th>\n",
       "      <th>calle_hechos</th>\n",
       "      <th>calle_hechos2</th>\n",
       "      <th>colonia_hechos</th>\n",
       "      <th>alcaldia_hechos</th>\n",
       "      <th>competencia</th>\n",
       "      <th>longitud</th>\n",
       "      <th>latitud</th>\n",
       "      <th>tempo</th>\n",
       "    </tr>\n",
       "  </thead>\n",
       "  <tbody>\n",
       "    <tr>\n",
       "      <th>1248919</th>\n",
       "      <td>2021.0</td>\n",
       "      <td>Junio</td>\n",
       "      <td>2021-06-29 17:00:00</td>\n",
       "      <td>2021</td>\n",
       "      <td>Junio</td>\n",
       "      <td>2021-06-30 23:32:31</td>\n",
       "      <td>LESIONES CULPOSAS POR TRANSITO VEHICULAR EN CO...</td>\n",
       "      <td>FISCALÍA DE INVESTIGACIÓN TERRITORIAL EN MILPA...</td>\n",
       "      <td>MIL-2</td>\n",
       "      <td>UI-3SD</td>\n",
       "      <td>DELITO DE BAJO IMPACTO</td>\n",
       "      <td>OAXTEPEC</td>\n",
       "      <td>NaN</td>\n",
       "      <td>SAN MARCOS (SANTA ANA TLACOTENCO)</td>\n",
       "      <td>MILPA ALTA</td>\n",
       "      <td>FUERO COMUN</td>\n",
       "      <td>-98.992460</td>\n",
       "      <td>19.168371</td>\n",
       "      <td>NaN</td>\n",
       "    </tr>\n",
       "    <tr>\n",
       "      <th>1248920</th>\n",
       "      <td>2021.0</td>\n",
       "      <td>Junio</td>\n",
       "      <td>2021-06-04 19:00:00</td>\n",
       "      <td>2021</td>\n",
       "      <td>Junio</td>\n",
       "      <td>2021-06-30 23:36:45</td>\n",
       "      <td>ROBO DE ACCESORIOS DE AUTO</td>\n",
       "      <td>FISCALÍA DE INVESTIGACIÓN TERRITORIAL EN CUAUH...</td>\n",
       "      <td>CUH-7</td>\n",
       "      <td>UI-3SD</td>\n",
       "      <td>DELITO DE BAJO IMPACTO</td>\n",
       "      <td>AVENIDA MEXICO</td>\n",
       "      <td>TEOTIHUACAN</td>\n",
       "      <td>HIPÓDROMO</td>\n",
       "      <td>CUAUHTEMOC</td>\n",
       "      <td>FUERO COMUN</td>\n",
       "      <td>-99.168311</td>\n",
       "      <td>19.412001</td>\n",
       "      <td>NaN</td>\n",
       "    </tr>\n",
       "    <tr>\n",
       "      <th>1248921</th>\n",
       "      <td>2021.0</td>\n",
       "      <td>Junio</td>\n",
       "      <td>2021-06-30 19:40:00</td>\n",
       "      <td>2021</td>\n",
       "      <td>Junio</td>\n",
       "      <td>2021-06-30 23:37:12</td>\n",
       "      <td>AMENAZAS</td>\n",
       "      <td>FISCALÍA DE INVESTIGACIÓN TERRITORIAL EN IZTAC...</td>\n",
       "      <td>IZC-2</td>\n",
       "      <td>UI-3SD</td>\n",
       "      <td>DELITO DE BAJO IMPACTO</td>\n",
       "      <td>CUATRO</td>\n",
       "      <td>NaN</td>\n",
       "      <td>AGRÍCOLA PANTITLAN</td>\n",
       "      <td>IZTACALCO</td>\n",
       "      <td>FUERO COMUN</td>\n",
       "      <td>-99.061716</td>\n",
       "      <td>19.419028</td>\n",
       "      <td>NaN</td>\n",
       "    </tr>\n",
       "    <tr>\n",
       "      <th>1248922</th>\n",
       "      <td>2021.0</td>\n",
       "      <td>Mayo</td>\n",
       "      <td>2021-05-16 21:08:00</td>\n",
       "      <td>2021</td>\n",
       "      <td>Junio</td>\n",
       "      <td>2021-06-30 23:45:57</td>\n",
       "      <td>DAÑO EN PROPIEDAD AJENA INTENCIONAL</td>\n",
       "      <td>FISCALÍA DE INVESTIGACIÓN TERRITORIAL EN CUAUH...</td>\n",
       "      <td>CUH-7</td>\n",
       "      <td>UI-3SD</td>\n",
       "      <td>DELITO DE BAJO IMPACTO</td>\n",
       "      <td>ALVARO OBREGON</td>\n",
       "      <td>NaN</td>\n",
       "      <td>ROMA NORTE</td>\n",
       "      <td>CUAUHTEMOC</td>\n",
       "      <td>FUERO COMUN</td>\n",
       "      <td>-99.158994</td>\n",
       "      <td>19.418615</td>\n",
       "      <td>NaN</td>\n",
       "    </tr>\n",
       "    <tr>\n",
       "      <th>1248923</th>\n",
       "      <td>2021.0</td>\n",
       "      <td>Junio</td>\n",
       "      <td>2021-06-29 17:00:00</td>\n",
       "      <td>2021</td>\n",
       "      <td>Junio</td>\n",
       "      <td>2021-06-30 23:52:34</td>\n",
       "      <td>LESIONES INTENCIONALES POR ARMA BLANCA</td>\n",
       "      <td>FISCALÍA DE INVESTIGACIÓN TERRITORIAL EN IZTAP...</td>\n",
       "      <td>IZP-8</td>\n",
       "      <td>UI-3CD</td>\n",
       "      <td>DELITO DE BAJO IMPACTO</td>\n",
       "      <td>REFORMA # 100</td>\n",
       "      <td>NaN</td>\n",
       "      <td>LOMAS DE SAN LORENZO</td>\n",
       "      <td>IZTAPALAPA</td>\n",
       "      <td>FUERO COMUN</td>\n",
       "      <td>-99.069557</td>\n",
       "      <td>19.321406</td>\n",
       "      <td>NaN</td>\n",
       "    </tr>\n",
       "  </tbody>\n",
       "</table>\n",
       "</div>"
      ],
      "text/plain": [
       "         ao_hechos mes_hechos         fecha_hechos  ao_inicio mes_inicio  \\\n",
       "1248919     2021.0      Junio  2021-06-29 17:00:00       2021      Junio   \n",
       "1248920     2021.0      Junio  2021-06-04 19:00:00       2021      Junio   \n",
       "1248921     2021.0      Junio  2021-06-30 19:40:00       2021      Junio   \n",
       "1248922     2021.0       Mayo  2021-05-16 21:08:00       2021      Junio   \n",
       "1248923     2021.0      Junio  2021-06-29 17:00:00       2021      Junio   \n",
       "\n",
       "                fecha_inicio  \\\n",
       "1248919  2021-06-30 23:32:31   \n",
       "1248920  2021-06-30 23:36:45   \n",
       "1248921  2021-06-30 23:37:12   \n",
       "1248922  2021-06-30 23:45:57   \n",
       "1248923  2021-06-30 23:52:34   \n",
       "\n",
       "                                                    delito  \\\n",
       "1248919  LESIONES CULPOSAS POR TRANSITO VEHICULAR EN CO...   \n",
       "1248920                         ROBO DE ACCESORIOS DE AUTO   \n",
       "1248921                                           AMENAZAS   \n",
       "1248922                DAÑO EN PROPIEDAD AJENA INTENCIONAL   \n",
       "1248923             LESIONES INTENCIONALES POR ARMA BLANCA   \n",
       "\n",
       "                                                  fiscalia agencia  \\\n",
       "1248919  FISCALÍA DE INVESTIGACIÓN TERRITORIAL EN MILPA...   MIL-2   \n",
       "1248920  FISCALÍA DE INVESTIGACIÓN TERRITORIAL EN CUAUH...   CUH-7   \n",
       "1248921  FISCALÍA DE INVESTIGACIÓN TERRITORIAL EN IZTAC...   IZC-2   \n",
       "1248922  FISCALÍA DE INVESTIGACIÓN TERRITORIAL EN CUAUH...   CUH-7   \n",
       "1248923  FISCALÍA DE INVESTIGACIÓN TERRITORIAL EN IZTAP...   IZP-8   \n",
       "\n",
       "        unidad_investigacion        categoria_delito    calle_hechos  \\\n",
       "1248919               UI-3SD  DELITO DE BAJO IMPACTO        OAXTEPEC   \n",
       "1248920               UI-3SD  DELITO DE BAJO IMPACTO  AVENIDA MEXICO   \n",
       "1248921               UI-3SD  DELITO DE BAJO IMPACTO          CUATRO   \n",
       "1248922               UI-3SD  DELITO DE BAJO IMPACTO  ALVARO OBREGON   \n",
       "1248923               UI-3CD  DELITO DE BAJO IMPACTO   REFORMA # 100   \n",
       "\n",
       "        calle_hechos2                     colonia_hechos alcaldia_hechos  \\\n",
       "1248919           NaN  SAN MARCOS (SANTA ANA TLACOTENCO)      MILPA ALTA   \n",
       "1248920   TEOTIHUACAN                          HIPÓDROMO      CUAUHTEMOC   \n",
       "1248921           NaN                 AGRÍCOLA PANTITLAN       IZTACALCO   \n",
       "1248922           NaN                         ROMA NORTE      CUAUHTEMOC   \n",
       "1248923           NaN               LOMAS DE SAN LORENZO      IZTAPALAPA   \n",
       "\n",
       "         competencia   longitud    latitud  tempo  \n",
       "1248919  FUERO COMUN -98.992460  19.168371    NaN  \n",
       "1248920  FUERO COMUN -99.168311  19.412001    NaN  \n",
       "1248921  FUERO COMUN -99.061716  19.419028    NaN  \n",
       "1248922  FUERO COMUN -99.158994  19.418615    NaN  \n",
       "1248923  FUERO COMUN -99.069557  19.321406    NaN  "
      ]
     },
     "execution_count": 5,
     "metadata": {},
     "output_type": "execute_result"
    }
   ],
   "source": [
    "## revisar df \n",
    "df.tail()"
   ]
  },
  {
   "cell_type": "markdown",
   "metadata": {},
   "source": [
    "3. Respuestas a preguntas"
   ]
  },
  {
   "cell_type": "markdown",
   "metadata": {},
   "source": [
    "3.1 ¿Qué pruebas identificarías para asegurar la calidad de estos datos? No es necesario\n",
    "hacerlas, sólo describe la prueba y lo que te dice cada una."
   ]
  },
  {
   "cell_type": "markdown",
   "metadata": {},
   "source": [
    "Es necesario verificar que la información cumple con los requisitos necesarios para poder extraer valor de ella. Para esto es necesario primero definir qué es lo que queremos entender a través de estos datos. En este ejercicio, las preguntas ya están dadas por lo nos basamos en ellas para definir las pruebas que aseguren la calidad de los datos. Revisamos los siguientes criterios de precisión y describimos las pruebas correspondientes:\n",
    "\n",
    "- precisión - Para establecer una respuesta a partir de los datos, es necesario que estén libres de errores. Por ejemplo, si hubiera errores en la codificación de los delitos, o en las latitudes y longitudes de los mismos, no podríamos realizar un análisis preciso de los mismos a partir de estas variables. Cualquier conclusión estaría sesgada por estos errores y no sería reproducible con otras aproximaciones al mismo fenómeno. Si fuera posible se debería de ir al nacimiento de los datos para asegurarnos que toda la información capturada termine en el portal de datos abiertos sin ningún error. Sin embargo no somos dueños de la información por lo que la mejor prueba que podemos hacer es un análisis histórico de la precisión de cada variable. De esta manera podemos detectar errores en el momento en que sean introducidos a la base durante alguna de sus actualizaciones mensuales.\n",
    "\n",
    "- integridad (_completeness_) - Se refiere a que los datos no deberían de tener valores nulos en ninguna variable, y deberían de tener todos los atributos necesarios para el análisis. Esto se puede probar haciendo un conteo de valores nulos, para calcular la proporción de valores nulos por variable. También se puede hacer un análisis de tendencia para detectar anomalías en cuanto a la cantidad de valore nulos generados por fecha, para detectar la introducción de una variable no disponible anteriormente.\n",
    "\n",
    "- consistencia - Los datos deben de mantener el formato esperado de cada variable dada su naturaleza y no debe haber cambios en formatos ni en los valores de los registros. La primera prueba que se debe hacer es una revisión de los formatos y valores de cada variable. Esto se puede hacer con los comandos de describe para variables numéricas y enteras y de value_counts para las categóricas y de texto. La segunda prueba es la de consistencia histórica. Con cada entrega mensual, se debe verificar si se están introduciendo cambios de formatos o de los valores en algún registro. Debido a la naturaleza cambiante de las carpetas de investigación, mismas que pueden ser actualizadas aún después de haber sido publicadas en el portal de datos abiertos, es necesario verificar de manera histórica la consistencia de la información.\n",
    "\n",
    "- validez -  Los datos deben cumplir los requisitos para el uso que se les quiere dar. Esto incluye que las variables de fecha en realidad capturen una fecha en un formato adecuado, que una variable de correo electrónico esté validada como realmente existente y otros ejemplos similares.  Es decir que si queremos analizar los delitos que suceden en la Ciudad de México (CDMX), debemos de asegurarnos que cada registro es una observación válida de este fenómeno y que cada variable está capturada de acuerdo a su naturaleza. Este punto trae a la luz un problema fundamental de esta base de datos: se trata solamente de los delitos que son denunciados directamente o investigados por la Fiscalía General de Justicia de la Ciudad de México (FGJ). Existe la llamada cifra negra que corresponde a la cantidad de delitos que no son denunciados o no son investigados por las autoridades. Se puede hacer una comparación con la Encuesta nacional de victimización y percepción sobre seguridad pública (ENVIPE) que mide a través de una muestra representativa de habitantes de la CDMX la cantidad de personas que han sido víctimas de delitos en el último año. En el mundo ideal, se deberían de denunicar la misma cantidad de delitos que son cometidos en la ciudad.\n",
    "\n",
    "- los datos deben ser oportunos - Este criterio se encarga de medir qué tan oportunamente están disponibles los datos desde que son creados hasta que son publicados. Para probarlo, debemos aprovechar que contamos con la fecha de inicio de la carpeta (fecha_inicio) y la fecha en que se reportaron los hechos (fecha_hechos). Para cada registro, la diferencia entre estas dos variables nos da una parte del tiempo que toma en estar disponible desde que sucede el hecho. A esta cantidad debemos sumar el tiempo que falta hasta la siguiente publicación mensual en el portal de datos abiertos. Los datos se publican alrededor del día 10 de cada mes, y contienen la actualizaión correspondiente al mes completo anterior. Por lo que debemos sumar los días faltantes del mes más 10 días para obtener un estimado de qué tan oportuno es cada registro.\n",
    "\n",
    "- unicidad - Se refiere a que no existan registros duplicados del mismo hecho en la base. Para probarlo podemos comparar la dimensión completa de la base contra la cantidad de registros únicos. Esto nos dirá si existe algún duplicado que tenga  los mismos valores en todas las variables. Sin embargo, pueden existir duplicados que tengan algún valor ligeramente diferente y estos escaparían a la detección de esta prueba. Se puede hacer una prueba más específica que compare a los registros por alguna medida de similitud. Sin embargo esto cosntituye un problema que se podría complejizar bastante ya que incluso se podría ajustar un modelo estadístico para estimar qué tanto es un duplicado cada registro."
   ]
  },
  {
   "cell_type": "markdown",
   "metadata": {},
   "source": [
    "3.2 Identifica los delitos que van al alza y a la baja en la CDMX (ten cuidado con los delitos\n",
    "con pocas ocurrencias)."
   ]
  },
  {
   "cell_type": "markdown",
   "metadata": {},
   "source": [
    "Lo primero que hacemos es separar la fecha y la hora de los hechos en dos variables separadas a las que les damos el nombre de \"variable\"\\_clean. Es relevante notar que mantendremos esta notación de aquí en adelantcon cualquier modificación similar. El motivo es conservar siempre una copia original de lnformación, en caso de requerir algún nuevo análisis."
   ]
  },
  {
   "cell_type": "code",
   "execution_count": 6,
   "metadata": {},
   "outputs": [],
   "source": [
    "## separar fecha y hora de hechos/inicio que vienen pegados por un espacio\n",
    "# fecha de hechos\n",
    "df['fecha_hechos_clean'] = df['fecha_hechos'].str.split(' ').str.get(0)\n",
    "df['hora_hechos_clean'] = df['fecha_hechos'].str.split(' ').str.get(1)\n",
    "\n",
    "# fecha de inicio\n",
    "df['fecha_inicio_clean'] = df['fecha_inicio'].str.split(' ').str.get(0)\n",
    "df['hora_inicio_clean'] = df['fecha_inicio'].str.split(' ').str.get(1)"
   ]
  },
  {
   "cell_type": "markdown",
   "metadata": {},
   "source": [
    "Ahora pasamos las variables de fecha al tipo datetime."
   ]
  },
  {
   "cell_type": "code",
   "execution_count": 7,
   "metadata": {},
   "outputs": [],
   "source": [
    "## pasar fecha_hechos_clean a tipo datetime\n",
    "df['fecha_hechos_clean'] = pd.to_datetime(df['fecha_hechos_clean'])\n",
    "df['fecha_inicio_clean'] = pd.to_datetime(df['fecha_inicio_clean'])"
   ]
  },
  {
   "cell_type": "code",
   "execution_count": 8,
   "metadata": {},
   "outputs": [],
   "source": [
    "## pasar fecha_hechos_clean a tipo date\n",
    "df['fecha_hechos_clean'] = df['fecha_hechos_clean'].apply(lambda x: x.date())\n",
    "df['fecha_inicio_clean'] = df['fecha_inicio_clean'].apply(lambda x: x.date())"
   ]
  },
  {
   "cell_type": "markdown",
   "metadata": {},
   "source": [
    "Ya que tenemos las fechas en el formato adecuado, podemos hacer los primeros análisis de las tendencias de los delitos. \n",
    "\n",
    "Tenemos que comenzar por una variable que nos permite dar un criterio de validez a los datos. La competencia es una categoría dada a cada carpeta de investigación por la FGJ. Esta variable es muy importante ya que nos permite descartar correctamente los casos que no son contados como delitos por la FGJ. Sin embargo, fue añadida recientemente, y no se encuentra disponible para toda la base.\n",
    "\n",
    "Para explicar esta categorización de los hechos, hacemos el conteo por categoria de la variable."
   ]
  },
  {
   "cell_type": "code",
   "execution_count": 9,
   "metadata": {},
   "outputs": [
    {
     "data": {
      "text/plain": [
       "NaN                   1064079\n",
       "FUERO COMUN            179618\n",
       "HECHO NO DELICTIVO       3374\n",
       "INCOMPETENCIA            1853\n",
       "Name: competencia, dtype: int64"
      ]
     },
     "execution_count": 9,
     "metadata": {},
     "output_type": "execute_result"
    }
   ],
   "source": [
    "## conteo por tipo de competencia, incluyendo valores nulos\n",
    "df['competencia'].value_counts(dropna = False)"
   ]
  },
  {
   "cell_type": "markdown",
   "metadata": {},
   "source": [
    "Las tres categorias son: \"FUERO COMUN\" que describe los delitos que ocurridos y denunciados en la CDMX y que competene a la FGJ, \"HECHO NO DELICTIVO\" que describe los hechos sucedidos y denunciados en la CDMX pero que no constituyen un delito como puede ser una pérdida de vida accidental por ejemplo y por último \"INCOMPETENCIA\" que son hechos delictivos sucedidos fuera de la CDMX pero denunciados dentro de ella. Solo los delitos categorizados con \"FUERO COMUN\" deben ser tomados como válidos por el criterio de competencia. Este mismo criterio ha sido usado por la FGJ y la ADIP al hacer reportes públicos con los datos de carpetas de investigación, por lo que es necesario replicarlo para poder verificar nuestros resultados contra dichos reportes.\n",
    "\n",
    "Sin embargo, gran cantidad de los registros (85%) son nulos en la variable de competencia. Es decir que desconocemos su categoria oficial entre las tres que sí son válidas. Necesitamos encontrar una aproximación que podamos utilizar como sustituto para determinar qué carpetas de investigación constituyen hechos delictivos de la CDMX y cuáles no entre las que son nulas en competencia.\n",
    "\n",
    "Ya que la información se actualiza de manera mensual en el portal de datos abiertos, usamos la fecha de inicio de la carpeta para hacer un conteo mensual de los valores nulos en esta variable para encontrar el punto de corte."
   ]
  },
  {
   "cell_type": "code",
   "execution_count": 10,
   "metadata": {},
   "outputs": [
    {
     "data": {
      "text/plain": [
       "datetime.date(2020, 8, 31)"
      ]
     },
     "execution_count": 10,
     "metadata": {},
     "output_type": "execute_result"
    }
   ],
   "source": [
    "## contar nulos por mes de inicio\n",
    "\n",
    "# hacer un subconjunto con los valores nulos solamente\n",
    "nulos = df.loc[pd.isnull(df['competencia'])]\n",
    "\n",
    "# encontrar fecha máxima\n",
    "max(nulos['fecha_inicio_clean'])"
   ]
  },
  {
   "cell_type": "markdown",
   "metadata": {},
   "source": [
    "Es así que encontrarmos que se introdujo la variable de competencia a partir del 1 de septiembre de 2020. A partir de esta fecha usaremos la competencia como criterio. Antes de ella, usaremos el criterio de pertenencia a la CDMX ya que no podemos separar a las carpetas con mayor certeza. Hay que notar que debido a que más adelante se usará la variable de delito para categorizar a las carpetas, no corremos el riesgo de introducir hechos no delictivos al análisis.\n",
    "\n",
    "Para generar el segundo criterio usamos la latitud y longitud reportadas de los hechos. Vamos a usar el archivo que contiene la demarcación de cada alcaldía en formato shapefile disponilbe en el portal de datos abiertos de la ADIP (https://datos.cdmx.gob.mx/dataset/alcaldias) para cruzar con las carpetas de investigación. De esta manera sabremos qué carpetas caen geográficamente dentro de la ciudad."
   ]
  },
  {
   "cell_type": "code",
   "execution_count": 11,
   "metadata": {},
   "outputs": [],
   "source": [
    "# partir la base en dos a partir del criterio de fecha\n",
    "df_criterio_alcaldia = df.loc[df['fecha_inicio_clean'] < date(2020,9,1),]\n",
    "df_criterio_competencia = df.loc[df['fecha_inicio_clean'] >= date(2020,9,1),]"
   ]
  },
  {
   "cell_type": "markdown",
   "metadata": {},
   "source": [
    "Notamos que al partir la base perdemos tres registros que tienen la fecha de inicio nula. Los mostramos a continuación"
   ]
  },
  {
   "cell_type": "code",
   "execution_count": 12,
   "metadata": {},
   "outputs": [
    {
     "data": {
      "text/html": [
       "<div>\n",
       "<style scoped>\n",
       "    .dataframe tbody tr th:only-of-type {\n",
       "        vertical-align: middle;\n",
       "    }\n",
       "\n",
       "    .dataframe tbody tr th {\n",
       "        vertical-align: top;\n",
       "    }\n",
       "\n",
       "    .dataframe thead th {\n",
       "        text-align: right;\n",
       "    }\n",
       "</style>\n",
       "<table border=\"1\" class=\"dataframe\">\n",
       "  <thead>\n",
       "    <tr style=\"text-align: right;\">\n",
       "      <th></th>\n",
       "      <th>ao_hechos</th>\n",
       "      <th>mes_hechos</th>\n",
       "      <th>fecha_hechos</th>\n",
       "      <th>ao_inicio</th>\n",
       "      <th>mes_inicio</th>\n",
       "      <th>fecha_inicio</th>\n",
       "      <th>delito</th>\n",
       "      <th>fiscalia</th>\n",
       "      <th>agencia</th>\n",
       "      <th>unidad_investigacion</th>\n",
       "      <th>...</th>\n",
       "      <th>colonia_hechos</th>\n",
       "      <th>alcaldia_hechos</th>\n",
       "      <th>competencia</th>\n",
       "      <th>longitud</th>\n",
       "      <th>latitud</th>\n",
       "      <th>tempo</th>\n",
       "      <th>fecha_hechos_clean</th>\n",
       "      <th>hora_hechos_clean</th>\n",
       "      <th>fecha_inicio_clean</th>\n",
       "      <th>hora_inicio_clean</th>\n",
       "    </tr>\n",
       "  </thead>\n",
       "  <tbody>\n",
       "    <tr>\n",
       "      <th>1168283</th>\n",
       "      <td>2020.0</td>\n",
       "      <td>Agosto</td>\n",
       "      <td>2020-08-12 16:45:00</td>\n",
       "      <td>2020</td>\n",
       "      <td>Agosto</td>\n",
       "      <td>NaN</td>\n",
       "      <td>FEMINICIDIO</td>\n",
       "      <td>FISCALÍA DE INVESTIGACIÓN TERRITORIAL EN GUSTA...</td>\n",
       "      <td>GAM-8</td>\n",
       "      <td>UI-2SD</td>\n",
       "      <td>...</td>\n",
       "      <td>GERTRUDIS SÁNCHEZ 2A SECCIÓN</td>\n",
       "      <td>GUSTAVO A MADERO</td>\n",
       "      <td>FUERO COMUN</td>\n",
       "      <td>-99.101234</td>\n",
       "      <td>19.466268</td>\n",
       "      <td>NaN</td>\n",
       "      <td>2020-08-12</td>\n",
       "      <td>16:45:00</td>\n",
       "      <td>NaT</td>\n",
       "      <td>NaN</td>\n",
       "    </tr>\n",
       "    <tr>\n",
       "      <th>1168284</th>\n",
       "      <td>2020.0</td>\n",
       "      <td>Octubre</td>\n",
       "      <td>2020-10-01 06:20:00</td>\n",
       "      <td>2020</td>\n",
       "      <td>Octubre</td>\n",
       "      <td>NaN</td>\n",
       "      <td>PLAGIO O SECUESTRO</td>\n",
       "      <td>FISCALÍA DE INVESTIGACIÓN DEL DELITO DE SECUESTRO</td>\n",
       "      <td>E</td>\n",
       "      <td>1 CON DETENIDO 1 C/D</td>\n",
       "      <td>...</td>\n",
       "      <td>NaN</td>\n",
       "      <td>AZCAPOTZALCO</td>\n",
       "      <td>FUERO COMUN</td>\n",
       "      <td>NaN</td>\n",
       "      <td>NaN</td>\n",
       "      <td>NaN</td>\n",
       "      <td>2020-10-01</td>\n",
       "      <td>06:20:00</td>\n",
       "      <td>NaT</td>\n",
       "      <td>NaN</td>\n",
       "    </tr>\n",
       "    <tr>\n",
       "      <th>1168285</th>\n",
       "      <td>2020.0</td>\n",
       "      <td>Octubre</td>\n",
       "      <td>2020-10-26 19:45:00</td>\n",
       "      <td>2020</td>\n",
       "      <td>Octubre</td>\n",
       "      <td>NaN</td>\n",
       "      <td>FEMINICIDIO</td>\n",
       "      <td>FISCALÍA DE INVESTIGACIÓN TERRITORIAL EN TLALPAN</td>\n",
       "      <td>TLP-3</td>\n",
       "      <td>UI-2CD</td>\n",
       "      <td>...</td>\n",
       "      <td>LA GUADALUPANA</td>\n",
       "      <td>TLALPAN</td>\n",
       "      <td>FUERO COMUN</td>\n",
       "      <td>-99.149103</td>\n",
       "      <td>19.194419</td>\n",
       "      <td>NaN</td>\n",
       "      <td>2020-10-26</td>\n",
       "      <td>19:45:00</td>\n",
       "      <td>NaT</td>\n",
       "      <td>NaN</td>\n",
       "    </tr>\n",
       "  </tbody>\n",
       "</table>\n",
       "<p>3 rows × 23 columns</p>\n",
       "</div>"
      ],
      "text/plain": [
       "         ao_hechos mes_hechos         fecha_hechos  ao_inicio mes_inicio  \\\n",
       "1168283     2020.0     Agosto  2020-08-12 16:45:00       2020     Agosto   \n",
       "1168284     2020.0    Octubre  2020-10-01 06:20:00       2020    Octubre   \n",
       "1168285     2020.0    Octubre  2020-10-26 19:45:00       2020    Octubre   \n",
       "\n",
       "        fecha_inicio              delito  \\\n",
       "1168283          NaN         FEMINICIDIO   \n",
       "1168284          NaN  PLAGIO O SECUESTRO   \n",
       "1168285          NaN         FEMINICIDIO   \n",
       "\n",
       "                                                  fiscalia agencia  \\\n",
       "1168283  FISCALÍA DE INVESTIGACIÓN TERRITORIAL EN GUSTA...   GAM-8   \n",
       "1168284  FISCALÍA DE INVESTIGACIÓN DEL DELITO DE SECUESTRO       E   \n",
       "1168285   FISCALÍA DE INVESTIGACIÓN TERRITORIAL EN TLALPAN   TLP-3   \n",
       "\n",
       "         unidad_investigacion  ...                colonia_hechos  \\\n",
       "1168283                UI-2SD  ...  GERTRUDIS SÁNCHEZ 2A SECCIÓN   \n",
       "1168284  1 CON DETENIDO 1 C/D  ...                           NaN   \n",
       "1168285                UI-2CD  ...                LA GUADALUPANA   \n",
       "\n",
       "          alcaldia_hechos  competencia   longitud    latitud tempo  \\\n",
       "1168283  GUSTAVO A MADERO  FUERO COMUN -99.101234  19.466268   NaN   \n",
       "1168284      AZCAPOTZALCO  FUERO COMUN        NaN        NaN   NaN   \n",
       "1168285           TLALPAN  FUERO COMUN -99.149103  19.194419   NaN   \n",
       "\n",
       "         fecha_hechos_clean  hora_hechos_clean  fecha_inicio_clean  \\\n",
       "1168283          2020-08-12           16:45:00                 NaT   \n",
       "1168284          2020-10-01           06:20:00                 NaT   \n",
       "1168285          2020-10-26           19:45:00                 NaT   \n",
       "\n",
       "        hora_inicio_clean  \n",
       "1168283               NaN  \n",
       "1168284               NaN  \n",
       "1168285               NaN  \n",
       "\n",
       "[3 rows x 23 columns]"
      ]
     },
     "execution_count": 12,
     "metadata": {},
     "output_type": "execute_result"
    }
   ],
   "source": [
    "df.loc[pd.isnull(df['fecha_inicio_clean'])]"
   ]
  },
  {
   "cell_type": "markdown",
   "metadata": {},
   "source": [
    "La base completa tiene 1,248,924 registros"
   ]
  },
  {
   "cell_type": "code",
   "execution_count": 13,
   "metadata": {},
   "outputs": [
    {
     "data": {
      "text/plain": [
       "(1248924, 23)"
      ]
     },
     "execution_count": 13,
     "metadata": {},
     "output_type": "execute_result"
    }
   ],
   "source": [
    "df.shape"
   ]
  },
  {
   "cell_type": "markdown",
   "metadata": {},
   "source": [
    "Y la suma de las dos particiones nos da 3 registros menos que la base completa."
   ]
  },
  {
   "cell_type": "code",
   "execution_count": 14,
   "metadata": {},
   "outputs": [
    {
     "data": {
      "text/plain": [
       "(1064080, 23)"
      ]
     },
     "execution_count": 14,
     "metadata": {},
     "output_type": "execute_result"
    }
   ],
   "source": [
    "df_criterio_alcaldia.shape"
   ]
  },
  {
   "cell_type": "code",
   "execution_count": 15,
   "metadata": {},
   "outputs": [
    {
     "data": {
      "text/plain": [
       "(184841, 23)"
      ]
     },
     "execution_count": 15,
     "metadata": {},
     "output_type": "execute_result"
    }
   ],
   "source": [
    "df_criterio_competencia.shape"
   ]
  },
  {
   "cell_type": "markdown",
   "metadata": {},
   "source": [
    "Una vez particionada la base, procedemos a aplicar el criterio geográfico a la primera partición."
   ]
  },
  {
   "cell_type": "code",
   "execution_count": 16,
   "metadata": {},
   "outputs": [
    {
     "data": {
      "text/plain": [
       "<Geographic 2D CRS: EPSG:4326>\n",
       "Name: WGS 84\n",
       "Axis Info [ellipsoidal]:\n",
       "- Lat[north]: Geodetic latitude (degree)\n",
       "- Lon[east]: Geodetic longitude (degree)\n",
       "Area of Use:\n",
       "- name: World.\n",
       "- bounds: (-180.0, -90.0, 180.0, 90.0)\n",
       "Datum: World Geodetic System 1984 ensemble\n",
       "- Ellipsoid: WGS 84\n",
       "- Prime Meridian: Greenwich"
      ]
     },
     "execution_count": 16,
     "metadata": {},
     "output_type": "execute_result"
    }
   ],
   "source": [
    "## leer shapefile de alcaldias\n",
    "alcaldias = gd.read_file('../input/alcaldias/alcaldias.shp')\n",
    "\n",
    "# comprobar proyección geográfica correspondiente con latitud y longitud (EPSG:4326)\n",
    "alcaldias.crs"
   ]
  },
  {
   "cell_type": "code",
   "execution_count": 17,
   "metadata": {},
   "outputs": [
    {
     "data": {
      "text/plain": [
       "(1064080, 23)"
      ]
     },
     "execution_count": 17,
     "metadata": {},
     "output_type": "execute_result"
    }
   ],
   "source": [
    "df_criterio_alcaldia.shape"
   ]
  },
  {
   "cell_type": "code",
   "execution_count": 18,
   "metadata": {},
   "outputs": [
    {
     "data": {
      "text/plain": [
       "42110"
      ]
     },
     "execution_count": 18,
     "metadata": {},
     "output_type": "execute_result"
    }
   ],
   "source": [
    "## crear un polígono con el límite exterior de la CDMX\n",
    "cdmx = Polygon(cascaded_union(alcaldias.geometry.tolist()).exterior)\n",
    "# contar las carpetas de investigación con latitud nula\n",
    "df_criterio_alcaldia.latitud.isnull().sum()"
   ]
  },
  {
   "cell_type": "markdown",
   "metadata": {},
   "source": [
    "Notamos que hay 42,110 observaciones (3.95% del total) que no cuentan con latitud o longitud y por ende no pueden ser validadas con este proceso. Es normal que aquellos hechos que no sean de competencia para la CDMX no cuenten con latitudes o longitudes válidas. Vamos a dejarlas de lado por ahora."
   ]
  },
  {
   "cell_type": "code",
   "execution_count": 19,
   "metadata": {},
   "outputs": [],
   "source": [
    "## generar subconjunto de nulos en latitud o longitud\n",
    "nulos_df_criterio_alcaldia = df_criterio_alcaldia[~df_criterio_alcaldia.latitud.notnull() | ~df_criterio_alcaldia.longitud.notnull()].copy(deep=True)\n",
    "## tirar los nulos del df principal\n",
    "df_criterio_alcaldia = df_criterio_alcaldia[df_criterio_alcaldia.latitud.notnull() & df_criterio_alcaldia.longitud.notnull()].copy(deep=True)"
   ]
  },
  {
   "cell_type": "code",
   "execution_count": 20,
   "metadata": {},
   "outputs": [
    {
     "data": {
      "text/plain": [
       "(1021970, 23)"
      ]
     },
     "execution_count": 20,
     "metadata": {},
     "output_type": "execute_result"
    }
   ],
   "source": [
    "df_criterio_alcaldia.shape"
   ]
  },
  {
   "cell_type": "code",
   "execution_count": 21,
   "metadata": {},
   "outputs": [],
   "source": [
    "## para definir la geometría de las carpetas de investigación \n",
    "# primero definimos una función que regresa puntos a partir de un renglón\n",
    "def get_point(row):\n",
    "    return Point(row['longitud'],row['latitud'])\n",
    "\n",
    "#usamos la funcion para definir la geometría de las carpetas de investigación\n",
    "df_criterio_alcaldia['geometry'] = df_criterio_alcaldia.apply(lambda row: get_point(row), axis=1)"
   ]
  },
  {
   "cell_type": "code",
   "execution_count": 22,
   "metadata": {},
   "outputs": [
    {
     "name": "stderr",
     "output_type": "stream",
     "text": [
      "/home/patatas/anaconda3/lib/python3.8/site-packages/pyproj/crs/crs.py:68: FutureWarning: '+init=<authority>:<code>' syntax is deprecated. '<authority>:<code>' is the preferred initialization method. When making the change, be mindful of axis order changes: https://pyproj4.github.io/pyproj/stable/gotchas.html#axis-order-changes-in-proj-6\n",
      "  return _prepare_from_string(\" \".join(pjargs))\n"
     ]
    }
   ],
   "source": [
    "## convertimos a un geodataframe\n",
    "crs = {'init': 'epsg:4326'}\n",
    "df_criterio_alcaldia = gd.GeoDataFrame(df_criterio_alcaldia, crs =crs, geometry='geometry')\n",
    "# usando intersects definimos inside_cdmx que indica si el punto se encuentra dentro de la cdmx\n",
    "df_criterio_alcaldia['inside_cdmx'] = df_criterio_alcaldia.geometry.apply(lambda x: cdmx.intersects(x))"
   ]
  },
  {
   "cell_type": "code",
   "execution_count": 23,
   "metadata": {},
   "outputs": [],
   "source": [
    "## los nulos por default no forman parte de la CDMX, inicializamos la variable inside_cdmx como False\n",
    "nulos_df_criterio_alcaldia['inside_cdmx'] = False"
   ]
  },
  {
   "cell_type": "code",
   "execution_count": 25,
   "metadata": {},
   "outputs": [],
   "source": [
    "df_criterio_alcaldia = pd.concat([df_criterio_alcaldia,nulos_df_criterio_alcaldia])"
   ]
  },
  {
   "cell_type": "code",
   "execution_count": 26,
   "metadata": {},
   "outputs": [
    {
     "data": {
      "text/plain": [
       "True     1021582\n",
       "False      42498\n",
       "Name: inside_cdmx, dtype: int64"
      ]
     },
     "execution_count": 26,
     "metadata": {},
     "output_type": "execute_result"
    }
   ],
   "source": [
    "df_criterio_alcaldia['inside_cdmx'].value_counts(dropna =False)"
   ]
  },
  {
   "cell_type": "markdown",
   "metadata": {},
   "source": [
    "Y es así como queda el criterio de validación geográfico para las carpetas de investigación más antiguas. Donde 42,498 (4% del total) no son válidas. \n",
    "\n",
    "Ahora aplicamos el criterio a la otra parte de la base y las volvemos a unir para poder hacer el primer análisis de tendencia."
   ]
  },
  {
   "cell_type": "code",
   "execution_count": 37,
   "metadata": {},
   "outputs": [
    {
     "data": {
      "text/plain": [
       "True     179614\n",
       "False      5228\n",
       "Name: inside_cdmx, dtype: int64"
      ]
     },
     "execution_count": 37,
     "metadata": {},
     "output_type": "execute_result"
    }
   ],
   "source": [
    "## declarar inside_cdmx con base en competencia\n",
    "df_criterio_competencia.loc[:,'inside_cdmx'] = df_criterio_competencia.competencia.apply(lambda x: True if x == 'FUERO COMUN' else False)\n",
    "##\n",
    "df_criterio_competencia['inside_cdmx'].value_counts(dropna = False)"
   ]
  },
  {
   "cell_type": "markdown",
   "metadata": {},
   "source": [
    "En esta parte de la base de datos, hay 5,228 carpetas (2.8% del total) que no son competencia de la FGJ. Notamos que los porcentajes no están muy distantes pero tampoco son exactamente iguales. Para ahondar en este análisis hacemos la primera gráfica de tendencia para observar el comportamiento de toda la serie de datos. Usaremos la fecha de hechos porque esta representa la fecha de ocurrencia tal como fue denunciado el delito."
   ]
  },
  {
   "cell_type": "code",
   "execution_count": 88,
   "metadata": {},
   "outputs": [],
   "source": [
    "# unir df\n",
    "df = pd.concat([df_criterio_alcaldia,df_criterio_competencia])\n",
    "## conteo por fecha de hechos e inside_cdmx\n",
    "# crear una variable auxiliar llamada conteo y con el valor de 1\n",
    "df['conteo'] = 1\n",
    "# agrupar por fecha_hechos_clean y competencia y sumar sobre conteo\n",
    "conteo = df.groupby(['fecha_hechos_clean','inside_cdmx'],as_index=False)['conteo'].sum()\n",
    "## cortar el conteo a partir del 2015 para reducir la serie\n",
    "conteo = conteo.loc[conteo['fecha_hechos_clean'] >= date(2016,1,1),]"
   ]
  },
  {
   "cell_type": "code",
   "execution_count": 89,
   "metadata": {},
   "outputs": [],
   "source": [
    "## cambiamos a formato largo para tratar a cada categoría como una variable\n",
    "conteo = conteo.pivot(index = 'fecha_hechos_clean',columns = 'inside_cdmx')\n",
    "# quitar MultiIndex\n",
    "conteo = conteo.reset_index(level=['fecha_hechos_clean'])\n",
    "# renombrar columnas\n",
    "conteo.columns = ['fecha_hechos_clean','total_false','total_true']"
   ]
  },
  {
   "cell_type": "code",
   "execution_count": 90,
   "metadata": {},
   "outputs": [],
   "source": [
    "## calculamos las medias móviles a 7 días\n",
    "conteo[ 'promedio_movil_false' ] = conteo['total_false'].rolling( 7).mean()\n",
    "conteo[ 'promedio_movil_true' ] = conteo['total_true'].rolling( 7).mean()"
   ]
  },
  {
   "cell_type": "code",
   "execution_count": 91,
   "metadata": {},
   "outputs": [
    {
     "data": {
      "text/html": [
       "<div>\n",
       "<style scoped>\n",
       "    .dataframe tbody tr th:only-of-type {\n",
       "        vertical-align: middle;\n",
       "    }\n",
       "\n",
       "    .dataframe tbody tr th {\n",
       "        vertical-align: top;\n",
       "    }\n",
       "\n",
       "    .dataframe thead th {\n",
       "        text-align: right;\n",
       "    }\n",
       "</style>\n",
       "<table border=\"1\" class=\"dataframe\">\n",
       "  <thead>\n",
       "    <tr style=\"text-align: right;\">\n",
       "      <th></th>\n",
       "      <th>fecha_hechos_clean</th>\n",
       "      <th>total_false</th>\n",
       "      <th>total_true</th>\n",
       "      <th>promedio_movil_false</th>\n",
       "      <th>promedio_movil_true</th>\n",
       "    </tr>\n",
       "  </thead>\n",
       "  <tbody>\n",
       "    <tr>\n",
       "      <th>0</th>\n",
       "      <td>2016-01-01</td>\n",
       "      <td>49</td>\n",
       "      <td>514</td>\n",
       "      <td>NaN</td>\n",
       "      <td>NaN</td>\n",
       "    </tr>\n",
       "    <tr>\n",
       "      <th>1</th>\n",
       "      <td>2016-01-02</td>\n",
       "      <td>15</td>\n",
       "      <td>385</td>\n",
       "      <td>NaN</td>\n",
       "      <td>NaN</td>\n",
       "    </tr>\n",
       "    <tr>\n",
       "      <th>2</th>\n",
       "      <td>2016-01-03</td>\n",
       "      <td>19</td>\n",
       "      <td>366</td>\n",
       "      <td>NaN</td>\n",
       "      <td>NaN</td>\n",
       "    </tr>\n",
       "    <tr>\n",
       "      <th>3</th>\n",
       "      <td>2016-01-04</td>\n",
       "      <td>16</td>\n",
       "      <td>566</td>\n",
       "      <td>NaN</td>\n",
       "      <td>NaN</td>\n",
       "    </tr>\n",
       "    <tr>\n",
       "      <th>4</th>\n",
       "      <td>2016-01-05</td>\n",
       "      <td>22</td>\n",
       "      <td>514</td>\n",
       "      <td>NaN</td>\n",
       "      <td>NaN</td>\n",
       "    </tr>\n",
       "    <tr>\n",
       "      <th>...</th>\n",
       "      <td>...</td>\n",
       "      <td>...</td>\n",
       "      <td>...</td>\n",
       "      <td>...</td>\n",
       "      <td>...</td>\n",
       "    </tr>\n",
       "    <tr>\n",
       "      <th>2003</th>\n",
       "      <td>2021-06-26</td>\n",
       "      <td>10</td>\n",
       "      <td>398</td>\n",
       "      <td>12.857143</td>\n",
       "      <td>458.428571</td>\n",
       "    </tr>\n",
       "    <tr>\n",
       "      <th>2004</th>\n",
       "      <td>2021-06-27</td>\n",
       "      <td>13</td>\n",
       "      <td>346</td>\n",
       "      <td>13.000000</td>\n",
       "      <td>441.714286</td>\n",
       "    </tr>\n",
       "    <tr>\n",
       "      <th>2005</th>\n",
       "      <td>2021-06-28</td>\n",
       "      <td>13</td>\n",
       "      <td>374</td>\n",
       "      <td>12.714286</td>\n",
       "      <td>419.857143</td>\n",
       "    </tr>\n",
       "    <tr>\n",
       "      <th>2006</th>\n",
       "      <td>2021-06-29</td>\n",
       "      <td>13</td>\n",
       "      <td>345</td>\n",
       "      <td>12.857143</td>\n",
       "      <td>404.428571</td>\n",
       "    </tr>\n",
       "    <tr>\n",
       "      <th>2007</th>\n",
       "      <td>2021-06-30</td>\n",
       "      <td>4</td>\n",
       "      <td>215</td>\n",
       "      <td>11.285714</td>\n",
       "      <td>364.428571</td>\n",
       "    </tr>\n",
       "  </tbody>\n",
       "</table>\n",
       "<p>2008 rows × 5 columns</p>\n",
       "</div>"
      ],
      "text/plain": [
       "     fecha_hechos_clean  total_false  total_true  promedio_movil_false  \\\n",
       "0            2016-01-01           49         514                   NaN   \n",
       "1            2016-01-02           15         385                   NaN   \n",
       "2            2016-01-03           19         366                   NaN   \n",
       "3            2016-01-04           16         566                   NaN   \n",
       "4            2016-01-05           22         514                   NaN   \n",
       "...                 ...          ...         ...                   ...   \n",
       "2003         2021-06-26           10         398             12.857143   \n",
       "2004         2021-06-27           13         346             13.000000   \n",
       "2005         2021-06-28           13         374             12.714286   \n",
       "2006         2021-06-29           13         345             12.857143   \n",
       "2007         2021-06-30            4         215             11.285714   \n",
       "\n",
       "      promedio_movil_true  \n",
       "0                     NaN  \n",
       "1                     NaN  \n",
       "2                     NaN  \n",
       "3                     NaN  \n",
       "4                     NaN  \n",
       "...                   ...  \n",
       "2003           458.428571  \n",
       "2004           441.714286  \n",
       "2005           419.857143  \n",
       "2006           404.428571  \n",
       "2007           364.428571  \n",
       "\n",
       "[2008 rows x 5 columns]"
      ]
     },
     "execution_count": 91,
     "metadata": {},
     "output_type": "execute_result"
    }
   ],
   "source": [
    "conteo"
   ]
  },
  {
   "cell_type": "code",
   "execution_count": 94,
   "metadata": {},
   "outputs": [
    {
     "data": {
      "text/plain": [
       "Text(0, 0.5, 'Total de carpetas')"
      ]
     },
     "execution_count": 94,
     "metadata": {},
     "output_type": "execute_result"
    },
    {
     "data": {
      "image/png": "[encoded data removed]",
      "text/plain": [
       "<Figure size 864x360 with 1 Axes>"
      ]
     },
     "metadata": {
      "needs_background": "light"
     },
     "output_type": "display_data"
    }
   ],
   "source": [
    "# set figure size\n",
    "plt.figure( figsize = ( 12, 5))\n",
    "  \n",
    "# plot a simple time series plot\n",
    "# using seaborn.lineplot()\n",
    "sns.lineplot( x = 'fecha_hechos_clean',\n",
    "             y = 'total_true',\n",
    "             data = conteo,\n",
    "             label = 'Total de carpetas de investigación')\n",
    "  \n",
    "# plot using rolling average\n",
    "sns.lineplot( x = 'fecha_hechos_clean',\n",
    "             y = 'promedio_movil_true',\n",
    "             data = conteo,\n",
    "             label = 'Promedio móvil 7 días carpetas de investigación')\n",
    "\n",
    "sns.lineplot( x = 'fecha_hechos_clean',\n",
    "             y = 'promedio_movil_false',\n",
    "             data = conteo,\n",
    "             label = 'Promedio móvil 7 días incompetencias')\n",
    "  \n",
    "plt.xlabel('Fecha de hechos')\n",
    "  \n",
    "# setting customized ticklabels for x axis\n",
    "#pos = [ '1959-01-01', '1959-02-01', '1959-03-01', '1959-04-01', \n",
    "#       '1959-05-01', '1959-06-01', '1959-07-01', '1959-08-01',\n",
    "#       '1959-09-01', '1959-10-01', '1959-11-01', '1959-12-01']\n",
    "#  \n",
    "#lab = [ 'Jan', 'Feb', 'Mar', 'Apr', 'May', 'June', \n",
    "#       'July', 'Aug', 'Sept', 'Oct', 'Nov', 'Dec']\n",
    "#  \n",
    "#plt.xticks( pos, lab)\n",
    "#  \n",
    "plt.ylabel('Total de carpetas')"
   ]
  },
  {
   "cell_type": "code",
   "execution_count": null,
   "metadata": {},
   "outputs": [],
   "source": []
  },
  {
   "cell_type": "code",
   "execution_count": null,
   "metadata": {},
   "outputs": [],
   "source": []
  },
  {
   "cell_type": "code",
   "execution_count": null,
   "metadata": {},
   "outputs": [],
   "source": []
  },
  {
   "cell_type": "code",
   "execution_count": null,
   "metadata": {},
   "outputs": [],
   "source": []
  },
  {
   "cell_type": "code",
   "execution_count": null,
   "metadata": {},
   "outputs": [],
   "source": []
  },
  {
   "cell_type": "markdown",
   "metadata": {},
   "source": [
    "Una gráfica nos permite encontrar la solución de manera sencilla."
   ]
  },
  {
   "cell_type": "code",
   "execution_count": null,
   "metadata": {},
   "outputs": [],
   "source": [
    "## gráfica de tendencia con promedio móvil\n",
    "# calcular promedio móvil de 7 días\n",
    "conteo[ 'promedio_movil_conteo' ] = conteo.conteo.rolling( 7).mean()"
   ]
  },
  {
   "cell_type": "code",
   "execution_count": null,
   "metadata": {},
   "outputs": [],
   "source": []
  },
  {
   "cell_type": "code",
   "execution_count": null,
   "metadata": {},
   "outputs": [],
   "source": []
  },
  {
   "cell_type": "markdown",
   "metadata": {},
   "source": [
    "3.3 ¿Cuál es la alcaldía que más delitos tiene y cuál es la que menos? ¿Por qué crees que sea\n",
    "esto?"
   ]
  },
  {
   "cell_type": "markdown",
   "metadata": {},
   "source": [
    "Hacemos una gráfica con el total de delitos de alto impacto mensual de cada alcaldía para resolver la pregunta."
   ]
  },
  {
   "cell_type": "code",
   "execution_count": null,
   "metadata": {},
   "outputs": [],
   "source": []
  },
  {
   "cell_type": "markdown",
   "metadata": {},
   "source": [
    "Hay que notar que la cantidad de delitos se correlaciona positivamente con la cantidad de población. Y en efecto la acladía con más delitos es también la más poblada. Si dividimos la ocurrencia anual de delitos entre la población de cada alcaldía, podemos obtener la tasa de delitos por cien mil habitantes. Esta es una medida ponderada por la población por lo que nos ofrece una manera de visualizar si las alcaldías tienen más o menos delitos controlando por su cantidad de habitantes."
   ]
  },
  {
   "cell_type": "code",
   "execution_count": null,
   "metadata": {},
   "outputs": [],
   "source": []
  },
  {
   "cell_type": "code",
   "execution_count": null,
   "metadata": {},
   "outputs": [],
   "source": []
  },
  {
   "cell_type": "markdown",
   "metadata": {},
   "source": [
    "3.4 ¿Existe alguna tendencia estacional en la ocurrencia de delitos (mes, semana, día de la\n",
    "semana, quincenas) en la CDMX? ¿A qué crees que se deba?"
   ]
  },
  {
   "cell_type": "markdown",
   "metadata": {},
   "source": [
    "Calculamos una serie de variables a partir de la fecha y hora de hechos para responder la pregunta."
   ]
  },
  {
   "cell_type": "code",
   "execution_count": null,
   "metadata": {},
   "outputs": [],
   "source": []
  },
  {
   "cell_type": "code",
   "execution_count": null,
   "metadata": {},
   "outputs": [],
   "source": []
  },
  {
   "cell_type": "code",
   "execution_count": null,
   "metadata": {},
   "outputs": [],
   "source": []
  },
  {
   "cell_type": "markdown",
   "metadata": {},
   "source": [
    "3.5 ¿Cuáles son los delitos que más caracterizan a cada alcaldía? Es decir, delitos que\n",
    "suceden con mayor frecuencia en una alcaldía y conmenor frecuencia en las demás."
   ]
  },
  {
   "cell_type": "code",
   "execution_count": null,
   "metadata": {},
   "outputs": [],
   "source": []
  },
  {
   "cell_type": "code",
   "execution_count": null,
   "metadata": {},
   "outputs": [],
   "source": []
  },
  {
   "cell_type": "code",
   "execution_count": null,
   "metadata": {},
   "outputs": [],
   "source": []
  },
  {
   "cell_type": "markdown",
   "metadata": {},
   "source": [
    "3.6 Diseña un indicador que mida el nivel de “inseguridad”. Genéralo al nivel de\n",
    "desagregación que te parezca más adecuado (ej.manzana,calle,AGEB,etc.). Analiza los\n",
    "resultados ¿Encontraste algún patrón interesante? ¿Qué decisiones se podrían tomar\n",
    "con el indicador?"
   ]
  },
  {
   "cell_type": "code",
   "execution_count": null,
   "metadata": {},
   "outputs": [],
   "source": []
  },
  {
   "cell_type": "code",
   "execution_count": null,
   "metadata": {},
   "outputs": [],
   "source": []
  },
  {
   "cell_type": "code",
   "execution_count": null,
   "metadata": {},
   "outputs": [],
   "source": []
  },
  {
   "cell_type": "markdown",
   "metadata": {},
   "source": []
  },
  {
   "cell_type": "code",
   "execution_count": null,
   "metadata": {},
   "outputs": [],
   "source": []
  },
  {
   "cell_type": "code",
   "execution_count": null,
   "metadata": {},
   "outputs": [],
   "source": []
  },
  {
   "cell_type": "code",
   "execution_count": null,
   "metadata": {},
   "outputs": [],
   "source": []
  },
  {
   "cell_type": "code",
   "execution_count": null,
   "metadata": {},
   "outputs": [],
   "source": []
  },
  {
   "cell_type": "code",
   "execution_count": null,
   "metadata": {},
   "outputs": [],
   "source": []
  },
  {
   "cell_type": "code",
   "execution_count": null,
   "metadata": {},
   "outputs": [],
   "source": []
  },
  {
   "cell_type": "code",
   "execution_count": null,
   "metadata": {},
   "outputs": [],
   "source": []
  },
  {
   "cell_type": "code",
   "execution_count": null,
   "metadata": {},
   "outputs": [],
   "source": []
  },
  {
   "cell_type": "code",
   "execution_count": null,
   "metadata": {},
   "outputs": [],
   "source": []
  },
  {
   "cell_type": "code",
   "execution_count": null,
   "metadata": {},
   "outputs": [],
   "source": []
  },
  {
   "cell_type": "code",
   "execution_count": null,
   "metadata": {},
   "outputs": [],
   "source": []
  },
  {
   "cell_type": "code",
   "execution_count": null,
   "metadata": {},
   "outputs": [],
   "source": []
  },
  {
   "cell_type": "code",
   "execution_count": null,
   "metadata": {},
   "outputs": [],
   "source": []
  },
  {
   "cell_type": "code",
   "execution_count": null,
   "metadata": {},
   "outputs": [],
   "source": []
  },
  {
   "cell_type": "code",
   "execution_count": null,
   "metadata": {},
   "outputs": [],
   "source": []
  },
  {
   "cell_type": "code",
   "execution_count": null,
   "metadata": {},
   "outputs": [],
   "source": []
  },
  {
   "cell_type": "code",
   "execution_count": null,
   "metadata": {},
   "outputs": [],
   "source": []
  },
  {
   "cell_type": "code",
   "execution_count": null,
   "metadata": {},
   "outputs": [],
   "source": []
  },
  {
   "cell_type": "code",
   "execution_count": null,
   "metadata": {},
   "outputs": [],
   "source": []
  },
  {
   "cell_type": "code",
   "execution_count": null,
   "metadata": {},
   "outputs": [],
   "source": []
  },
  {
   "cell_type": "code",
   "execution_count": null,
   "metadata": {},
   "outputs": [],
   "source": []
  },
  {
   "cell_type": "code",
   "execution_count": null,
   "metadata": {},
   "outputs": [],
   "source": []
  },
  {
   "cell_type": "code",
   "execution_count": null,
   "metadata": {},
   "outputs": [],
   "source": []
  },
  {
   "cell_type": "code",
   "execution_count": null,
   "metadata": {},
   "outputs": [],
   "source": []
  },
  {
   "cell_type": "code",
   "execution_count": null,
   "metadata": {},
   "outputs": [],
   "source": []
  },
  {
   "cell_type": "code",
   "execution_count": null,
   "metadata": {},
   "outputs": [],
   "source": []
  },
  {
   "cell_type": "code",
   "execution_count": null,
   "metadata": {},
   "outputs": [],
   "source": []
  },
  {
   "cell_type": "code",
   "execution_count": null,
   "metadata": {},
   "outputs": [],
   "source": []
  }
 ],
 "metadata": {
  "kernelspec": {
   "display_name": "Python 3",
   "language": "python",
   "name": "python3"
  },
  "language_info": {
   "codemirror_mode": {
    "name": "ipython",
    "version": 3
   },
   "file_extension": ".py",
   "mimetype": "text/x-python",
   "name": "python",
   "nbconvert_exporter": "python",
   "pygments_lexer": "ipython3",
   "version": "3.8.5"
  }
 },
 "nbformat": 4,
 "nbformat_minor": 4
}
