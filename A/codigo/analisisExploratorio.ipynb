{
 "cells": [
  {
   "cell_type": "markdown",
   "metadata": {},
   "source": [
    "######\n",
    "### Enrique Mejía Fontanot\n",
    "Análisis de la base de Carpetas de Investigación FGJ como respuesta al apartado A del examen.\n",
    "\n",
    "#### Estructura:\n",
    "\n",
    "1. Cargar bibliotecas necesarias\n",
    "2. Leer datos\n",
    "3. Respuestas a preguntas del examen\n",
    "\n",
    "    3.1 ¿Qué pruebas identificarías para asegurar la calidad de estos datos? No es necesario\n",
    "hacerlas, sólo describe la prueba y lo que te dicecada una.\n",
    "\n",
    "    3.2 Identifica los delitos que van al alza y a la baja en la CDMX (ten cuidado con los delitos\n",
    "con pocas ocurrencias).\n",
    "\n",
    "    3.3 ¿Cuál es la alcaldía que más delitos tiene y cuál es la que menos?¿Por qué crees que sea\n",
    "esto?\n",
    "\n",
    "    3.4 ¿Existe alguna tendencia estacional en la ocurrencia de delitos (mes, semana, día de la\n",
    "semana, quincenas) en la CDMX? ¿A qué crees que sedeba?\n",
    "\n",
    "    3.5 ¿Cuáles son los delitos que más caracterizan a cada alcaldía? Es decir, delitos que\n",
    "suceden con mayor frecuencia en una alcaldía y con menor frecuencia en las demás.\n",
    "\n",
    "    3.6 Diseña un indicador que mida el nivel de “inseguridad”. Genéralo al nivel de\n",
    "desagregación que te parezca más adecuado (ej. manzana, calle, AGEB, etc.). Analiza los\n",
    "resultados ¿Encontraste algún patrón interesante? ¿Qué decisiones se podrían tomar\n",
    "con el indicador?\n",
    "\n",
    "#### Notas\n",
    "\n",
    "Es necesario cargar el archivo .csv de carpetas de investiación si es la primera vez que se ejecuta el script ya que este archivo no se sube al repositorio de git. Se pretende que el código sea reproducible, claro y entendible. Los comentarios en el código sirven el propósito de describir el código que les sigue. El texto en formato markdown pretende ofrecer la respuesta de todas las preguntas a partir de la ejecución del código y del análisis de los resultados de este manera secuencial. Cada pregunta va añadiendo información que es utilizada por los análisis posteriores.\n",
    "\n",
    "#####"
   ]
  },
  {
   "cell_type": "markdown",
   "metadata": {},
   "source": [
    "1. Cargar bibliotecas necesarias"
   ]
  },
  {
   "cell_type": "code",
   "execution_count": 119,
   "metadata": {},
   "outputs": [],
   "source": [
    "## para manipular datos  \n",
    "import pandas as pd  \n",
    "## para graficar\n",
    "import seaborn as sns \n",
    "## para graficar\n",
    "import matplotlib.pyplot as plt "
   ]
  },
  {
   "cell_type": "markdown",
   "metadata": {},
   "source": [
    "2. Leer datos"
   ]
  },
  {
   "cell_type": "code",
   "execution_count": 84,
   "metadata": {},
   "outputs": [],
   "source": [
    "#### leer datos desde archivo csv descargado del portal de datos abiertos de la ADIP.\n",
    "df = pd.read_csv('/home/patatas/Documents/examenOPI/A/input/carpetas_completa_junio_2021.csv',low_memory=False)"
   ]
  },
  {
   "cell_type": "markdown",
   "metadata": {},
   "source": [
    "Revisar dimensiones del dataframe leído."
   ]
  },
  {
   "cell_type": "code",
   "execution_count": 85,
   "metadata": {},
   "outputs": [
    {
     "data": {
      "text/plain": [
       "(1248924, 19)"
      ]
     },
     "execution_count": 85,
     "metadata": {},
     "output_type": "execute_result"
    }
   ],
   "source": [
    "## revisar dimensiones del df\n",
    "df.shape"
   ]
  },
  {
   "cell_type": "code",
   "execution_count": 86,
   "metadata": {},
   "outputs": [
    {
     "data": {
      "text/plain": [
       "ao_hechos               float64\n",
       "mes_hechos               object\n",
       "fecha_hechos             object\n",
       "ao_inicio                 int64\n",
       "mes_inicio               object\n",
       "fecha_inicio             object\n",
       "delito                   object\n",
       "fiscalia                 object\n",
       "agencia                  object\n",
       "unidad_investigacion     object\n",
       "categoria_delito         object\n",
       "calle_hechos             object\n",
       "calle_hechos2            object\n",
       "colonia_hechos           object\n",
       "alcaldia_hechos          object\n",
       "competencia              object\n",
       "longitud                float64\n",
       "latitud                 float64\n",
       "tempo                   float64\n",
       "dtype: object"
      ]
     },
     "execution_count": 86,
     "metadata": {},
     "output_type": "execute_result"
    }
   ],
   "source": [
    "## revisar tipos de variables\n",
    "df.dtypes"
   ]
  },
  {
   "cell_type": "code",
   "execution_count": 87,
   "metadata": {},
   "outputs": [
    {
     "data": {
      "text/html": [
       "<div>\n",
       "<style scoped>\n",
       "    .dataframe tbody tr th:only-of-type {\n",
       "        vertical-align: middle;\n",
       "    }\n",
       "\n",
       "    .dataframe tbody tr th {\n",
       "        vertical-align: top;\n",
       "    }\n",
       "\n",
       "    .dataframe thead th {\n",
       "        text-align: right;\n",
       "    }\n",
       "</style>\n",
       "<table border=\"1\" class=\"dataframe\">\n",
       "  <thead>\n",
       "    <tr style=\"text-align: right;\">\n",
       "      <th></th>\n",
       "      <th>ao_hechos</th>\n",
       "      <th>mes_hechos</th>\n",
       "      <th>fecha_hechos</th>\n",
       "      <th>ao_inicio</th>\n",
       "      <th>mes_inicio</th>\n",
       "      <th>fecha_inicio</th>\n",
       "      <th>delito</th>\n",
       "      <th>fiscalia</th>\n",
       "      <th>agencia</th>\n",
       "      <th>unidad_investigacion</th>\n",
       "      <th>categoria_delito</th>\n",
       "      <th>calle_hechos</th>\n",
       "      <th>calle_hechos2</th>\n",
       "      <th>colonia_hechos</th>\n",
       "      <th>alcaldia_hechos</th>\n",
       "      <th>competencia</th>\n",
       "      <th>longitud</th>\n",
       "      <th>latitud</th>\n",
       "      <th>tempo</th>\n",
       "    </tr>\n",
       "  </thead>\n",
       "  <tbody>\n",
       "    <tr>\n",
       "      <th>1248919</th>\n",
       "      <td>2021.0</td>\n",
       "      <td>Junio</td>\n",
       "      <td>2021-06-29 17:00:00</td>\n",
       "      <td>2021</td>\n",
       "      <td>Junio</td>\n",
       "      <td>2021-06-30 23:32:31</td>\n",
       "      <td>LESIONES CULPOSAS POR TRANSITO VEHICULAR EN CO...</td>\n",
       "      <td>FISCALÍA DE INVESTIGACIÓN TERRITORIAL EN MILPA...</td>\n",
       "      <td>MIL-2</td>\n",
       "      <td>UI-3SD</td>\n",
       "      <td>DELITO DE BAJO IMPACTO</td>\n",
       "      <td>OAXTEPEC</td>\n",
       "      <td>NaN</td>\n",
       "      <td>SAN MARCOS (SANTA ANA TLACOTENCO)</td>\n",
       "      <td>MILPA ALTA</td>\n",
       "      <td>FUERO COMUN</td>\n",
       "      <td>-98.992460</td>\n",
       "      <td>19.168371</td>\n",
       "      <td>NaN</td>\n",
       "    </tr>\n",
       "    <tr>\n",
       "      <th>1248920</th>\n",
       "      <td>2021.0</td>\n",
       "      <td>Junio</td>\n",
       "      <td>2021-06-04 19:00:00</td>\n",
       "      <td>2021</td>\n",
       "      <td>Junio</td>\n",
       "      <td>2021-06-30 23:36:45</td>\n",
       "      <td>ROBO DE ACCESORIOS DE AUTO</td>\n",
       "      <td>FISCALÍA DE INVESTIGACIÓN TERRITORIAL EN CUAUH...</td>\n",
       "      <td>CUH-7</td>\n",
       "      <td>UI-3SD</td>\n",
       "      <td>DELITO DE BAJO IMPACTO</td>\n",
       "      <td>AVENIDA MEXICO</td>\n",
       "      <td>TEOTIHUACAN</td>\n",
       "      <td>HIPÓDROMO</td>\n",
       "      <td>CUAUHTEMOC</td>\n",
       "      <td>FUERO COMUN</td>\n",
       "      <td>-99.168311</td>\n",
       "      <td>19.412001</td>\n",
       "      <td>NaN</td>\n",
       "    </tr>\n",
       "    <tr>\n",
       "      <th>1248921</th>\n",
       "      <td>2021.0</td>\n",
       "      <td>Junio</td>\n",
       "      <td>2021-06-30 19:40:00</td>\n",
       "      <td>2021</td>\n",
       "      <td>Junio</td>\n",
       "      <td>2021-06-30 23:37:12</td>\n",
       "      <td>AMENAZAS</td>\n",
       "      <td>FISCALÍA DE INVESTIGACIÓN TERRITORIAL EN IZTAC...</td>\n",
       "      <td>IZC-2</td>\n",
       "      <td>UI-3SD</td>\n",
       "      <td>DELITO DE BAJO IMPACTO</td>\n",
       "      <td>CUATRO</td>\n",
       "      <td>NaN</td>\n",
       "      <td>AGRÍCOLA PANTITLAN</td>\n",
       "      <td>IZTACALCO</td>\n",
       "      <td>FUERO COMUN</td>\n",
       "      <td>-99.061716</td>\n",
       "      <td>19.419028</td>\n",
       "      <td>NaN</td>\n",
       "    </tr>\n",
       "    <tr>\n",
       "      <th>1248922</th>\n",
       "      <td>2021.0</td>\n",
       "      <td>Mayo</td>\n",
       "      <td>2021-05-16 21:08:00</td>\n",
       "      <td>2021</td>\n",
       "      <td>Junio</td>\n",
       "      <td>2021-06-30 23:45:57</td>\n",
       "      <td>DAÑO EN PROPIEDAD AJENA INTENCIONAL</td>\n",
       "      <td>FISCALÍA DE INVESTIGACIÓN TERRITORIAL EN CUAUH...</td>\n",
       "      <td>CUH-7</td>\n",
       "      <td>UI-3SD</td>\n",
       "      <td>DELITO DE BAJO IMPACTO</td>\n",
       "      <td>ALVARO OBREGON</td>\n",
       "      <td>NaN</td>\n",
       "      <td>ROMA NORTE</td>\n",
       "      <td>CUAUHTEMOC</td>\n",
       "      <td>FUERO COMUN</td>\n",
       "      <td>-99.158994</td>\n",
       "      <td>19.418615</td>\n",
       "      <td>NaN</td>\n",
       "    </tr>\n",
       "    <tr>\n",
       "      <th>1248923</th>\n",
       "      <td>2021.0</td>\n",
       "      <td>Junio</td>\n",
       "      <td>2021-06-29 17:00:00</td>\n",
       "      <td>2021</td>\n",
       "      <td>Junio</td>\n",
       "      <td>2021-06-30 23:52:34</td>\n",
       "      <td>LESIONES INTENCIONALES POR ARMA BLANCA</td>\n",
       "      <td>FISCALÍA DE INVESTIGACIÓN TERRITORIAL EN IZTAP...</td>\n",
       "      <td>IZP-8</td>\n",
       "      <td>UI-3CD</td>\n",
       "      <td>DELITO DE BAJO IMPACTO</td>\n",
       "      <td>REFORMA # 100</td>\n",
       "      <td>NaN</td>\n",
       "      <td>LOMAS DE SAN LORENZO</td>\n",
       "      <td>IZTAPALAPA</td>\n",
       "      <td>FUERO COMUN</td>\n",
       "      <td>-99.069557</td>\n",
       "      <td>19.321406</td>\n",
       "      <td>NaN</td>\n",
       "    </tr>\n",
       "  </tbody>\n",
       "</table>\n",
       "</div>"
      ],
      "text/plain": [
       "         ao_hechos mes_hechos         fecha_hechos  ao_inicio mes_inicio  \\\n",
       "1248919     2021.0      Junio  2021-06-29 17:00:00       2021      Junio   \n",
       "1248920     2021.0      Junio  2021-06-04 19:00:00       2021      Junio   \n",
       "1248921     2021.0      Junio  2021-06-30 19:40:00       2021      Junio   \n",
       "1248922     2021.0       Mayo  2021-05-16 21:08:00       2021      Junio   \n",
       "1248923     2021.0      Junio  2021-06-29 17:00:00       2021      Junio   \n",
       "\n",
       "                fecha_inicio  \\\n",
       "1248919  2021-06-30 23:32:31   \n",
       "1248920  2021-06-30 23:36:45   \n",
       "1248921  2021-06-30 23:37:12   \n",
       "1248922  2021-06-30 23:45:57   \n",
       "1248923  2021-06-30 23:52:34   \n",
       "\n",
       "                                                    delito  \\\n",
       "1248919  LESIONES CULPOSAS POR TRANSITO VEHICULAR EN CO...   \n",
       "1248920                         ROBO DE ACCESORIOS DE AUTO   \n",
       "1248921                                           AMENAZAS   \n",
       "1248922                DAÑO EN PROPIEDAD AJENA INTENCIONAL   \n",
       "1248923             LESIONES INTENCIONALES POR ARMA BLANCA   \n",
       "\n",
       "                                                  fiscalia agencia  \\\n",
       "1248919  FISCALÍA DE INVESTIGACIÓN TERRITORIAL EN MILPA...   MIL-2   \n",
       "1248920  FISCALÍA DE INVESTIGACIÓN TERRITORIAL EN CUAUH...   CUH-7   \n",
       "1248921  FISCALÍA DE INVESTIGACIÓN TERRITORIAL EN IZTAC...   IZC-2   \n",
       "1248922  FISCALÍA DE INVESTIGACIÓN TERRITORIAL EN CUAUH...   CUH-7   \n",
       "1248923  FISCALÍA DE INVESTIGACIÓN TERRITORIAL EN IZTAP...   IZP-8   \n",
       "\n",
       "        unidad_investigacion        categoria_delito    calle_hechos  \\\n",
       "1248919               UI-3SD  DELITO DE BAJO IMPACTO        OAXTEPEC   \n",
       "1248920               UI-3SD  DELITO DE BAJO IMPACTO  AVENIDA MEXICO   \n",
       "1248921               UI-3SD  DELITO DE BAJO IMPACTO          CUATRO   \n",
       "1248922               UI-3SD  DELITO DE BAJO IMPACTO  ALVARO OBREGON   \n",
       "1248923               UI-3CD  DELITO DE BAJO IMPACTO   REFORMA # 100   \n",
       "\n",
       "        calle_hechos2                     colonia_hechos alcaldia_hechos  \\\n",
       "1248919           NaN  SAN MARCOS (SANTA ANA TLACOTENCO)      MILPA ALTA   \n",
       "1248920   TEOTIHUACAN                          HIPÓDROMO      CUAUHTEMOC   \n",
       "1248921           NaN                 AGRÍCOLA PANTITLAN       IZTACALCO   \n",
       "1248922           NaN                         ROMA NORTE      CUAUHTEMOC   \n",
       "1248923           NaN               LOMAS DE SAN LORENZO      IZTAPALAPA   \n",
       "\n",
       "         competencia   longitud    latitud  tempo  \n",
       "1248919  FUERO COMUN -98.992460  19.168371    NaN  \n",
       "1248920  FUERO COMUN -99.168311  19.412001    NaN  \n",
       "1248921  FUERO COMUN -99.061716  19.419028    NaN  \n",
       "1248922  FUERO COMUN -99.158994  19.418615    NaN  \n",
       "1248923  FUERO COMUN -99.069557  19.321406    NaN  "
      ]
     },
     "execution_count": 87,
     "metadata": {},
     "output_type": "execute_result"
    }
   ],
   "source": [
    "## revisar df \n",
    "df.tail()"
   ]
  },
  {
   "cell_type": "markdown",
   "metadata": {},
   "source": [
    "3. Limpieza y preprocesamiento"
   ]
  },
  {
   "cell_type": "markdown",
   "metadata": {},
   "source": [
    "3.1 ¿Qué pruebas identificarías para asegurar la calidad de estos datos? No es necesario\n",
    "hacerlas, sólo describe la prueba y lo que te dicecada una."
   ]
  },
  {
   "cell_type": "markdown",
   "metadata": {},
   "source": [
    "Es necesario verificar que la información cumple con los requisitos necesarios para poder extraer valor de ella. Revisamos los criterios de ..."
   ]
  },
  {
   "cell_type": "markdown",
   "metadata": {},
   "source": [
    "Notamos que contamos con un universo muy basto de datos con más de un millón de registros individuales, y con variables muy específicas que nos permiten localizar los delitos de manera temporal y espacial. Se cuenta con la fecha y hora de los hechos así como la latitud y longitud de los mismos. Además, se cuenta con el delito, la fiscalía en la que se denunció el hecho y la información sobre la competencia de la misma. "
   ]
  },
  {
   "cell_type": "code",
   "execution_count": null,
   "metadata": {},
   "outputs": [],
   "source": []
  },
  {
   "cell_type": "code",
   "execution_count": null,
   "metadata": {},
   "outputs": [],
   "source": []
  },
  {
   "cell_type": "markdown",
   "metadata": {},
   "source": [
    "3.2 Identifica los delitos que van al alza y a la baja en la CDMX (ten cuidado con los delitos\n",
    "con pocas ocurrencias)."
   ]
  },
  {
   "cell_type": "markdown",
   "metadata": {},
   "source": [
    "Lo primero que hacemos es separar la fecha y la hora de los hechos en dos variables separadas a las que les damos el nombre de \"variable\"_clean. Es relevante notar que mantendremos esta notación de aquí en adelantcon cualquier modificación similar. El motivo es conservar siempre una copia original de lnformación, en caso de requerir algún nuevo análisis."
   ]
  },
  {
   "cell_type": "code",
   "execution_count": 120,
   "metadata": {},
   "outputs": [],
   "source": [
    "## separar fecha y hora de hechos/inicio que vienen pegados por un espacio\n",
    "# fecha de hechos\n",
    "df['fecha_hechos_clean'] = df['fecha_hechos'].str.split(' ').str.get(0)\n",
    "df['hora_hechos_clean'] = df['fecha_hechos'].str.split(' ').str.get(1)\n",
    "\n",
    "# fecha de inicio\n",
    "df['fecha_inicio_clean'] = df['fecha_inicio'].str.split(' ').str.get(0)\n",
    "df['hora_inicio_clean'] = df['fecha_inicio'].str.split(' ').str.get(1)"
   ]
  },
  {
   "cell_type": "markdown",
   "metadata": {},
   "source": [
    "Ahora pasamos las variables de fecha al tipo datetime."
   ]
  },
  {
   "cell_type": "code",
   "execution_count": 121,
   "metadata": {},
   "outputs": [],
   "source": [
    "## pasar fecha_hechos_clean a tipo datetime\n",
    "df['fecha_hechos_clean'] = pd.to_datetime(df['fecha_hechos_clean'])"
   ]
  },
  {
   "cell_type": "markdown",
   "metadata": {},
   "source": [
    "Ya que tenemos las fechas en el formato adecuado, podemos hacer los primeros análisis de las tendencias de los delitos. \n",
    "\n",
    "Tenemos que comenzar por una variable que nos permite dar un criterio de validez a los datos. La competencia es una categoría dada a cada carpeta de investigación por la Fiscalía General de Justicia de la Ciudad de México (FGJ). Esta variable es muy importante ya que nos permite descartar correctamente los casos que no son contados como delitos por la FGJ. Sin embargo, fue añadida recientemente, y no se encuentra disponible para toda la base.\n",
    "\n",
    "Para explicar esta categorización de los hechos, hacemos el conteo por categoria de la variable."
   ]
  },
  {
   "cell_type": "code",
   "execution_count": 122,
   "metadata": {},
   "outputs": [
    {
     "data": {
      "text/plain": [
       "NaN                   1064079\n",
       "FUERO COMUN            179618\n",
       "HECHO NO DELICTIVO       3374\n",
       "INCOMPETENCIA            1853\n",
       "Name: competencia, dtype: int64"
      ]
     },
     "execution_count": 122,
     "metadata": {},
     "output_type": "execute_result"
    }
   ],
   "source": [
    "## conteo por tipo de competencia, incluyendo valores nulos\n",
    "df['competencia'].value_counts(dropna = False)"
   ]
  },
  {
   "cell_type": "markdown",
   "metadata": {},
   "source": [
    "Gran cantidad de los registros (85%) son nulos en la variable de competencia. Es decir que necesitamos encontrar un valor que podamos utilizar como sustituto para determinar qué carpetas de investigación constituyen hechos delictivos y cuáles no. La importancia de esto radica en que este criterio ha sido usado por la FGJ y la ADIP al hacer reportes públicos con los datos de carpetas de investigación, por lo que es necesario replicarlo para poder verificar nuestros resultados contra dichos reportes."
   ]
  },
  {
   "cell_type": "code",
   "execution_count": 123,
   "metadata": {},
   "outputs": [
    {
     "data": {
      "text/html": [
       "<div>\n",
       "<style scoped>\n",
       "    .dataframe tbody tr th:only-of-type {\n",
       "        vertical-align: middle;\n",
       "    }\n",
       "\n",
       "    .dataframe tbody tr th {\n",
       "        vertical-align: top;\n",
       "    }\n",
       "\n",
       "    .dataframe thead th {\n",
       "        text-align: right;\n",
       "    }\n",
       "</style>\n",
       "<table border=\"1\" class=\"dataframe\">\n",
       "  <thead>\n",
       "    <tr style=\"text-align: right;\">\n",
       "      <th></th>\n",
       "      <th>fecha_hechos_clean</th>\n",
       "      <th>competencia</th>\n",
       "      <th>conteo</th>\n",
       "    </tr>\n",
       "  </thead>\n",
       "  <tbody>\n",
       "    <tr>\n",
       "      <th>0</th>\n",
       "      <td>1950-01-01</td>\n",
       "      <td>FUERO COMUN</td>\n",
       "      <td>1</td>\n",
       "    </tr>\n",
       "    <tr>\n",
       "      <th>1</th>\n",
       "      <td>1952-12-23</td>\n",
       "      <td>FUERO COMUN</td>\n",
       "      <td>1</td>\n",
       "    </tr>\n",
       "    <tr>\n",
       "      <th>2</th>\n",
       "      <td>1955-01-02</td>\n",
       "      <td>FUERO COMUN</td>\n",
       "      <td>1</td>\n",
       "    </tr>\n",
       "    <tr>\n",
       "      <th>3</th>\n",
       "      <td>1958-11-27</td>\n",
       "      <td>FUERO COMUN</td>\n",
       "      <td>1</td>\n",
       "    </tr>\n",
       "    <tr>\n",
       "      <th>4</th>\n",
       "      <td>1962-01-01</td>\n",
       "      <td>FUERO COMUN</td>\n",
       "      <td>1</td>\n",
       "    </tr>\n",
       "    <tr>\n",
       "      <th>...</th>\n",
       "      <td>...</td>\n",
       "      <td>...</td>\n",
       "      <td>...</td>\n",
       "    </tr>\n",
       "    <tr>\n",
       "      <th>3349</th>\n",
       "      <td>2021-06-29</td>\n",
       "      <td>HECHO NO DELICTIVO</td>\n",
       "      <td>8</td>\n",
       "    </tr>\n",
       "    <tr>\n",
       "      <th>3350</th>\n",
       "      <td>2021-06-29</td>\n",
       "      <td>INCOMPETENCIA</td>\n",
       "      <td>5</td>\n",
       "    </tr>\n",
       "    <tr>\n",
       "      <th>3351</th>\n",
       "      <td>2021-06-30</td>\n",
       "      <td>FUERO COMUN</td>\n",
       "      <td>215</td>\n",
       "    </tr>\n",
       "    <tr>\n",
       "      <th>3352</th>\n",
       "      <td>2021-06-30</td>\n",
       "      <td>HECHO NO DELICTIVO</td>\n",
       "      <td>3</td>\n",
       "    </tr>\n",
       "    <tr>\n",
       "      <th>3353</th>\n",
       "      <td>2021-06-30</td>\n",
       "      <td>INCOMPETENCIA</td>\n",
       "      <td>1</td>\n",
       "    </tr>\n",
       "  </tbody>\n",
       "</table>\n",
       "<p>3354 rows × 3 columns</p>\n",
       "</div>"
      ],
      "text/plain": [
       "     fecha_hechos_clean         competencia  conteo\n",
       "0            1950-01-01         FUERO COMUN       1\n",
       "1            1952-12-23         FUERO COMUN       1\n",
       "2            1955-01-02         FUERO COMUN       1\n",
       "3            1958-11-27         FUERO COMUN       1\n",
       "4            1962-01-01         FUERO COMUN       1\n",
       "...                 ...                 ...     ...\n",
       "3349         2021-06-29  HECHO NO DELICTIVO       8\n",
       "3350         2021-06-29       INCOMPETENCIA       5\n",
       "3351         2021-06-30         FUERO COMUN     215\n",
       "3352         2021-06-30  HECHO NO DELICTIVO       3\n",
       "3353         2021-06-30       INCOMPETENCIA       1\n",
       "\n",
       "[3354 rows x 3 columns]"
      ]
     },
     "execution_count": 123,
     "metadata": {},
     "output_type": "execute_result"
    }
   ],
   "source": [
    "## conteo por fecha de hechos y competencia, incluyendo valores nulos\n",
    "# crear una variable auxiliar llamada conteo y con el valor de 1\n",
    "df['conteo'] = 1\n",
    "# agrupar por fecha_hechos_clean y competencia y sumar sobre conteo\n",
    "conteo = df.groupby(['fecha_hechos_clean','competencia'],as_index=False)['conteo'].sum()\n",
    "# imprimir resultado\n",
    "conteo"
   ]
  },
  {
   "cell_type": "markdown",
   "metadata": {},
   "source": [
    "Notamos que la fecha de los hechos va demasiado tiempo hacia atrás por lo que habrá que establecer una fecha de corte a partir del cuál hacer el análisis. Y que necesitamos encontrar la fecha a partir de la cuál la variable contiene información. Ya que la información se actualiza de manera mensual en el portal de datos abiertos, hacemos un conteo mensual a partir de la variable de fecha inicio para encontrar el punto de corte."
   ]
  },
  {
   "cell_type": "code",
   "execution_count": 116,
   "metadata": {},
   "outputs": [],
   "source": []
  },
  {
   "cell_type": "code",
   "execution_count": null,
   "metadata": {},
   "outputs": [],
   "source": []
  },
  {
   "cell_type": "code",
   "execution_count": null,
   "metadata": {},
   "outputs": [],
   "source": []
  },
  {
   "cell_type": "markdown",
   "metadata": {},
   "source": [
    "Una gráfica nos permite encontrar la solución de manera sencilla."
   ]
  },
  {
   "cell_type": "code",
   "execution_count": 125,
   "metadata": {},
   "outputs": [],
   "source": [
    "## gráfica de tendencia con promedio móvil\n",
    "# calcular promedio móvil de 7 días\n",
    "conteo[ 'promedio_movil_conteo' ] = conteo.conteo.rolling( 7).mean()"
   ]
  },
  {
   "cell_type": "code",
   "execution_count": null,
   "metadata": {},
   "outputs": [],
   "source": []
  },
  {
   "cell_type": "code",
   "execution_count": null,
   "metadata": {},
   "outputs": [],
   "source": []
  },
  {
   "cell_type": "markdown",
   "metadata": {},
   "source": [
    "3.3 ¿Cuál es la alcaldía que más delitos tiene y cuál es la que menos? ¿Por qué crees que sea\n",
    "esto?"
   ]
  },
  {
   "cell_type": "code",
   "execution_count": null,
   "metadata": {},
   "outputs": [],
   "source": []
  },
  {
   "cell_type": "code",
   "execution_count": null,
   "metadata": {},
   "outputs": [],
   "source": []
  },
  {
   "cell_type": "code",
   "execution_count": null,
   "metadata": {},
   "outputs": [],
   "source": []
  },
  {
   "cell_type": "code",
   "execution_count": null,
   "metadata": {},
   "outputs": [],
   "source": []
  },
  {
   "cell_type": "code",
   "execution_count": null,
   "metadata": {},
   "outputs": [],
   "source": []
  },
  {
   "cell_type": "markdown",
   "metadata": {},
   "source": [
    "3.4 ¿Existe alguna tendencia estacional en la ocurrencia de delitos (mes, semana, día de la\n",
    "semana, quincenas) en la CDMX? ¿A qué crees que se deba?"
   ]
  },
  {
   "cell_type": "code",
   "execution_count": null,
   "metadata": {},
   "outputs": [],
   "source": []
  },
  {
   "cell_type": "code",
   "execution_count": null,
   "metadata": {},
   "outputs": [],
   "source": []
  },
  {
   "cell_type": "code",
   "execution_count": null,
   "metadata": {},
   "outputs": [],
   "source": []
  },
  {
   "cell_type": "code",
   "execution_count": null,
   "metadata": {},
   "outputs": [],
   "source": []
  },
  {
   "cell_type": "markdown",
   "metadata": {},
   "source": [
    "3.5 ¿Cuáles son los delitos que más caracterizan a cada alcaldía? Es decir, delitos que\n",
    "suceden con mayor frecuencia en una alcaldía y conmenor frecuencia en las demás."
   ]
  },
  {
   "cell_type": "code",
   "execution_count": null,
   "metadata": {},
   "outputs": [],
   "source": []
  },
  {
   "cell_type": "code",
   "execution_count": null,
   "metadata": {},
   "outputs": [],
   "source": []
  },
  {
   "cell_type": "code",
   "execution_count": null,
   "metadata": {},
   "outputs": [],
   "source": []
  },
  {
   "cell_type": "markdown",
   "metadata": {},
   "source": [
    "3.6 Diseña un indicador que mida el nivel de “inseguridad”. Genéralo al nivel de\n",
    "desagregación que te parezca más adecuado (ej.manzana,calle,AGEB,etc.). Analiza los\n",
    "resultados ¿Encontraste algún patrón interesante? ¿Qué decisiones se podrían tomar\n",
    "con el indicador?"
   ]
  },
  {
   "cell_type": "code",
   "execution_count": null,
   "metadata": {},
   "outputs": [],
   "source": []
  },
  {
   "cell_type": "code",
   "execution_count": null,
   "metadata": {},
   "outputs": [],
   "source": []
  },
  {
   "cell_type": "code",
   "execution_count": null,
   "metadata": {},
   "outputs": [],
   "source": []
  },
  {
   "cell_type": "markdown",
   "metadata": {},
   "source": []
  },
  {
   "cell_type": "code",
   "execution_count": null,
   "metadata": {},
   "outputs": [],
   "source": []
  },
  {
   "cell_type": "code",
   "execution_count": null,
   "metadata": {},
   "outputs": [],
   "source": []
  },
  {
   "cell_type": "code",
   "execution_count": null,
   "metadata": {},
   "outputs": [],
   "source": []
  },
  {
   "cell_type": "code",
   "execution_count": null,
   "metadata": {},
   "outputs": [],
   "source": []
  },
  {
   "cell_type": "code",
   "execution_count": null,
   "metadata": {},
   "outputs": [],
   "source": []
  },
  {
   "cell_type": "code",
   "execution_count": null,
   "metadata": {},
   "outputs": [],
   "source": []
  },
  {
   "cell_type": "code",
   "execution_count": null,
   "metadata": {},
   "outputs": [],
   "source": []
  },
  {
   "cell_type": "code",
   "execution_count": null,
   "metadata": {},
   "outputs": [],
   "source": []
  },
  {
   "cell_type": "code",
   "execution_count": null,
   "metadata": {},
   "outputs": [],
   "source": []
  },
  {
   "cell_type": "code",
   "execution_count": null,
   "metadata": {},
   "outputs": [],
   "source": []
  },
  {
   "cell_type": "code",
   "execution_count": null,
   "metadata": {},
   "outputs": [],
   "source": []
  },
  {
   "cell_type": "code",
   "execution_count": null,
   "metadata": {},
   "outputs": [],
   "source": []
  },
  {
   "cell_type": "code",
   "execution_count": null,
   "metadata": {},
   "outputs": [],
   "source": []
  },
  {
   "cell_type": "code",
   "execution_count": null,
   "metadata": {},
   "outputs": [],
   "source": []
  },
  {
   "cell_type": "code",
   "execution_count": null,
   "metadata": {},
   "outputs": [],
   "source": []
  },
  {
   "cell_type": "code",
   "execution_count": null,
   "metadata": {},
   "outputs": [],
   "source": []
  },
  {
   "cell_type": "code",
   "execution_count": null,
   "metadata": {},
   "outputs": [],
   "source": []
  },
  {
   "cell_type": "code",
   "execution_count": null,
   "metadata": {},
   "outputs": [],
   "source": []
  },
  {
   "cell_type": "code",
   "execution_count": null,
   "metadata": {},
   "outputs": [],
   "source": []
  },
  {
   "cell_type": "code",
   "execution_count": null,
   "metadata": {},
   "outputs": [],
   "source": []
  },
  {
   "cell_type": "code",
   "execution_count": null,
   "metadata": {},
   "outputs": [],
   "source": []
  },
  {
   "cell_type": "code",
   "execution_count": null,
   "metadata": {},
   "outputs": [],
   "source": []
  },
  {
   "cell_type": "code",
   "execution_count": null,
   "metadata": {},
   "outputs": [],
   "source": []
  },
  {
   "cell_type": "code",
   "execution_count": null,
   "metadata": {},
   "outputs": [],
   "source": []
  },
  {
   "cell_type": "code",
   "execution_count": null,
   "metadata": {},
   "outputs": [],
   "source": []
  },
  {
   "cell_type": "code",
   "execution_count": null,
   "metadata": {},
   "outputs": [],
   "source": []
  },
  {
   "cell_type": "code",
   "execution_count": null,
   "metadata": {},
   "outputs": [],
   "source": []
  },
  {
   "cell_type": "code",
   "execution_count": null,
   "metadata": {},
   "outputs": [],
   "source": []
  }
 ],
 "metadata": {
  "kernelspec": {
   "display_name": "Python 3",
   "language": "python",
   "name": "python3"
  },
  "language_info": {
   "codemirror_mode": {
    "name": "ipython",
    "version": 3
   },
   "file_extension": ".py",
   "mimetype": "text/x-python",
   "name": "python",
   "nbconvert_exporter": "python",
   "pygments_lexer": "ipython3",
   "version": "3.8.5"
  }
 },
 "nbformat": 4,
 "nbformat_minor": 4
}
